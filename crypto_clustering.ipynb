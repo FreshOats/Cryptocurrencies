{
 "cells": [
  {
   "cell_type": "markdown",
   "metadata": {},
   "source": [
    "# Clustering Crypto"
   ]
  },
  {
   "cell_type": "code",
   "execution_count": 159,
   "metadata": {},
   "outputs": [],
   "source": [
    "# Initial imports\n",
    "import pandas as pd\n",
    "import numpy as np\n",
    "import hvplot.pandas\n",
    "from pathlib import Path\n",
    "import plotly.express as px\n",
    "from sklearn.preprocessing import StandardScaler, MinMaxScaler\n",
    "from sklearn.decomposition import PCA\n",
    "from sklearn.cluster import KMeans\n"
   ]
  },
  {
   "cell_type": "markdown",
   "metadata": {},
   "source": [
    "### Deliverable 1: Preprocessing the Data for PCA"
   ]
  },
  {
   "cell_type": "code",
   "execution_count": 95,
   "metadata": {},
   "outputs": [
    {
     "data": {
      "text/html": [
       "<div>\n",
       "<style scoped>\n",
       "    .dataframe tbody tr th:only-of-type {\n",
       "        vertical-align: middle;\n",
       "    }\n",
       "\n",
       "    .dataframe tbody tr th {\n",
       "        vertical-align: top;\n",
       "    }\n",
       "\n",
       "    .dataframe thead th {\n",
       "        text-align: right;\n",
       "    }\n",
       "</style>\n",
       "<table border=\"1\" class=\"dataframe\">\n",
       "  <thead>\n",
       "    <tr style=\"text-align: right;\">\n",
       "      <th></th>\n",
       "      <th>CoinName</th>\n",
       "      <th>Algorithm</th>\n",
       "      <th>IsTrading</th>\n",
       "      <th>ProofType</th>\n",
       "      <th>TotalCoinsMined</th>\n",
       "      <th>TotalCoinSupply</th>\n",
       "    </tr>\n",
       "  </thead>\n",
       "  <tbody>\n",
       "    <tr>\n",
       "      <th>42</th>\n",
       "      <td>42 Coin</td>\n",
       "      <td>Scrypt</td>\n",
       "      <td>True</td>\n",
       "      <td>PoW/PoS</td>\n",
       "      <td>4.199995e+01</td>\n",
       "      <td>42</td>\n",
       "    </tr>\n",
       "    <tr>\n",
       "      <th>365</th>\n",
       "      <td>365Coin</td>\n",
       "      <td>X11</td>\n",
       "      <td>True</td>\n",
       "      <td>PoW/PoS</td>\n",
       "      <td>NaN</td>\n",
       "      <td>2300000000</td>\n",
       "    </tr>\n",
       "    <tr>\n",
       "      <th>404</th>\n",
       "      <td>404Coin</td>\n",
       "      <td>Scrypt</td>\n",
       "      <td>True</td>\n",
       "      <td>PoW/PoS</td>\n",
       "      <td>1.055185e+09</td>\n",
       "      <td>532000000</td>\n",
       "    </tr>\n",
       "    <tr>\n",
       "      <th>611</th>\n",
       "      <td>SixEleven</td>\n",
       "      <td>SHA-256</td>\n",
       "      <td>True</td>\n",
       "      <td>PoW</td>\n",
       "      <td>NaN</td>\n",
       "      <td>611000</td>\n",
       "    </tr>\n",
       "    <tr>\n",
       "      <th>808</th>\n",
       "      <td>808</td>\n",
       "      <td>SHA-256</td>\n",
       "      <td>True</td>\n",
       "      <td>PoW/PoS</td>\n",
       "      <td>0.000000e+00</td>\n",
       "      <td>0</td>\n",
       "    </tr>\n",
       "    <tr>\n",
       "      <th>1337</th>\n",
       "      <td>EliteCoin</td>\n",
       "      <td>X13</td>\n",
       "      <td>True</td>\n",
       "      <td>PoW/PoS</td>\n",
       "      <td>2.927942e+10</td>\n",
       "      <td>314159265359</td>\n",
       "    </tr>\n",
       "    <tr>\n",
       "      <th>2015</th>\n",
       "      <td>2015 coin</td>\n",
       "      <td>X11</td>\n",
       "      <td>True</td>\n",
       "      <td>PoW/PoS</td>\n",
       "      <td>NaN</td>\n",
       "      <td>0</td>\n",
       "    </tr>\n",
       "    <tr>\n",
       "      <th>BTC</th>\n",
       "      <td>Bitcoin</td>\n",
       "      <td>SHA-256</td>\n",
       "      <td>True</td>\n",
       "      <td>PoW</td>\n",
       "      <td>1.792718e+07</td>\n",
       "      <td>21000000</td>\n",
       "    </tr>\n",
       "    <tr>\n",
       "      <th>ETH</th>\n",
       "      <td>Ethereum</td>\n",
       "      <td>Ethash</td>\n",
       "      <td>True</td>\n",
       "      <td>PoW</td>\n",
       "      <td>1.076842e+08</td>\n",
       "      <td>0</td>\n",
       "    </tr>\n",
       "    <tr>\n",
       "      <th>LTC</th>\n",
       "      <td>Litecoin</td>\n",
       "      <td>Scrypt</td>\n",
       "      <td>True</td>\n",
       "      <td>PoW</td>\n",
       "      <td>6.303924e+07</td>\n",
       "      <td>84000000</td>\n",
       "    </tr>\n",
       "  </tbody>\n",
       "</table>\n",
       "</div>"
      ],
      "text/plain": [
       "       CoinName Algorithm  IsTrading ProofType  TotalCoinsMined  \\\n",
       "42      42 Coin    Scrypt       True   PoW/PoS     4.199995e+01   \n",
       "365     365Coin       X11       True   PoW/PoS              NaN   \n",
       "404     404Coin    Scrypt       True   PoW/PoS     1.055185e+09   \n",
       "611   SixEleven   SHA-256       True       PoW              NaN   \n",
       "808         808   SHA-256       True   PoW/PoS     0.000000e+00   \n",
       "1337  EliteCoin       X13       True   PoW/PoS     2.927942e+10   \n",
       "2015  2015 coin       X11       True   PoW/PoS              NaN   \n",
       "BTC     Bitcoin   SHA-256       True       PoW     1.792718e+07   \n",
       "ETH    Ethereum    Ethash       True       PoW     1.076842e+08   \n",
       "LTC    Litecoin    Scrypt       True       PoW     6.303924e+07   \n",
       "\n",
       "     TotalCoinSupply  \n",
       "42                42  \n",
       "365       2300000000  \n",
       "404        532000000  \n",
       "611           611000  \n",
       "808                0  \n",
       "1337    314159265359  \n",
       "2015               0  \n",
       "BTC         21000000  \n",
       "ETH                0  \n",
       "LTC         84000000  "
      ]
     },
     "execution_count": 95,
     "metadata": {},
     "output_type": "execute_result"
    }
   ],
   "source": [
    "# Load the crypto_data.csv dataset.\n",
    "from operator import index\n",
    "\n",
    "\n",
    "file = Path(\"crypto_data.csv\")\n",
    "crypto_df = pd.read_csv(file, index_col=0)\n",
    "crypto_raw = crypto_df.copy()\n",
    "crypto_df.head(10)"
   ]
  },
  {
   "cell_type": "code",
   "execution_count": 96,
   "metadata": {},
   "outputs": [
    {
     "data": {
      "text/plain": [
       "CoinName            object\n",
       "Algorithm           object\n",
       "IsTrading             bool\n",
       "ProofType           object\n",
       "TotalCoinsMined    float64\n",
       "TotalCoinSupply     object\n",
       "dtype: object"
      ]
     },
     "execution_count": 96,
     "metadata": {},
     "output_type": "execute_result"
    }
   ],
   "source": [
    "crypto_df.dtypes\n"
   ]
  },
  {
   "cell_type": "code",
   "execution_count": 97,
   "metadata": {},
   "outputs": [
    {
     "data": {
      "text/plain": [
       "array([False,  True])"
      ]
     },
     "execution_count": 97,
     "metadata": {},
     "output_type": "execute_result"
    }
   ],
   "source": [
    "# Identify unique values in the IsTrading column\n",
    "np.unique(crypto_df.IsTrading)"
   ]
  },
  {
   "cell_type": "code",
   "execution_count": 98,
   "metadata": {},
   "outputs": [
    {
     "data": {
      "text/html": [
       "<div>\n",
       "<style scoped>\n",
       "    .dataframe tbody tr th:only-of-type {\n",
       "        vertical-align: middle;\n",
       "    }\n",
       "\n",
       "    .dataframe tbody tr th {\n",
       "        vertical-align: top;\n",
       "    }\n",
       "\n",
       "    .dataframe thead th {\n",
       "        text-align: right;\n",
       "    }\n",
       "</style>\n",
       "<table border=\"1\" class=\"dataframe\">\n",
       "  <thead>\n",
       "    <tr style=\"text-align: right;\">\n",
       "      <th></th>\n",
       "      <th>CoinName</th>\n",
       "      <th>Algorithm</th>\n",
       "      <th>IsTrading</th>\n",
       "      <th>ProofType</th>\n",
       "      <th>TotalCoinsMined</th>\n",
       "      <th>TotalCoinSupply</th>\n",
       "    </tr>\n",
       "  </thead>\n",
       "  <tbody>\n",
       "    <tr>\n",
       "      <th>42</th>\n",
       "      <td>42 Coin</td>\n",
       "      <td>Scrypt</td>\n",
       "      <td>True</td>\n",
       "      <td>PoW/PoS</td>\n",
       "      <td>4.199995e+01</td>\n",
       "      <td>42</td>\n",
       "    </tr>\n",
       "    <tr>\n",
       "      <th>365</th>\n",
       "      <td>365Coin</td>\n",
       "      <td>X11</td>\n",
       "      <td>True</td>\n",
       "      <td>PoW/PoS</td>\n",
       "      <td>NaN</td>\n",
       "      <td>2300000000</td>\n",
       "    </tr>\n",
       "    <tr>\n",
       "      <th>404</th>\n",
       "      <td>404Coin</td>\n",
       "      <td>Scrypt</td>\n",
       "      <td>True</td>\n",
       "      <td>PoW/PoS</td>\n",
       "      <td>1.055185e+09</td>\n",
       "      <td>532000000</td>\n",
       "    </tr>\n",
       "    <tr>\n",
       "      <th>611</th>\n",
       "      <td>SixEleven</td>\n",
       "      <td>SHA-256</td>\n",
       "      <td>True</td>\n",
       "      <td>PoW</td>\n",
       "      <td>NaN</td>\n",
       "      <td>611000</td>\n",
       "    </tr>\n",
       "    <tr>\n",
       "      <th>808</th>\n",
       "      <td>808</td>\n",
       "      <td>SHA-256</td>\n",
       "      <td>True</td>\n",
       "      <td>PoW/PoS</td>\n",
       "      <td>0.000000e+00</td>\n",
       "      <td>0</td>\n",
       "    </tr>\n",
       "  </tbody>\n",
       "</table>\n",
       "</div>"
      ],
      "text/plain": [
       "      CoinName Algorithm  IsTrading ProofType  TotalCoinsMined TotalCoinSupply\n",
       "42     42 Coin    Scrypt       True   PoW/PoS     4.199995e+01              42\n",
       "365    365Coin       X11       True   PoW/PoS              NaN      2300000000\n",
       "404    404Coin    Scrypt       True   PoW/PoS     1.055185e+09       532000000\n",
       "611  SixEleven   SHA-256       True       PoW              NaN          611000\n",
       "808        808   SHA-256       True   PoW/PoS     0.000000e+00               0"
      ]
     },
     "execution_count": 98,
     "metadata": {},
     "output_type": "execute_result"
    }
   ],
   "source": [
    "# Keep all the cryptocurrencies that are being traded.\n",
    "crypto_df = crypto_df[crypto_df.apply(lambda row: row['IsTrading'] == True, axis=1)]\n",
    "crypto_df.head()"
   ]
  },
  {
   "cell_type": "code",
   "execution_count": 99,
   "metadata": {},
   "outputs": [
    {
     "data": {
      "text/plain": [
       "array([ True])"
      ]
     },
     "execution_count": 99,
     "metadata": {},
     "output_type": "execute_result"
    }
   ],
   "source": [
    "# Verify that only True Values remain in the IsTraining column\n",
    "np.unique(crypto_df.IsTrading)"
   ]
  },
  {
   "cell_type": "code",
   "execution_count": 100,
   "metadata": {},
   "outputs": [
    {
     "data": {
      "text/plain": [
       "array(['1GB AES Pattern Search', '536', 'Argon2', 'Argon2d', 'BLAKE256',\n",
       "       'Blake', 'Blake2S', 'Blake2b', 'C11', 'Cloverhash', 'Counterparty',\n",
       "       'CryptoNight', 'CryptoNight Heavy', 'CryptoNight Heavy X',\n",
       "       'CryptoNight-Lite', 'CryptoNight-V7', 'CryptoNight-lite',\n",
       "       'Cryptonight-GPU', 'Curve25519', 'DPoS', 'Dagger',\n",
       "       'Dagger-Hashimoto', 'ECC 256K1', 'Equihash', 'Equihash+Scrypt',\n",
       "       'Equihash1927', 'Ethash', 'Exosis', 'Green Protocol', 'Groestl',\n",
       "       'HMQ1725', 'HybridScryptHash256', 'IMesh', 'Jump Consistent Hash',\n",
       "       'Keccak', 'Leased POS', 'Lyra2RE', 'Lyra2REv2', 'Lyra2Z', 'M7 POW',\n",
       "       'Momentum', 'Multiple', 'NIST5', 'NeoScrypt', 'Ouroboros',\n",
       "       'PHI1612', 'POS 2.0', 'POS 3.0', 'PoS', 'Progressive-n',\n",
       "       'Proof-of-Authority', 'Proof-of-BibleHash', 'QUAIT', 'QuBit',\n",
       "       'Quark', 'QuarkTX', 'Rainforest', 'SHA-256', 'SHA-256 + Hive',\n",
       "       'SHA-256D', 'SHA-512', 'SHA3', 'SHA3-256', 'Scrypt', 'Scrypt-n',\n",
       "       'Semux BFT consensus', 'Shabal256', 'Skein', 'SkunkHash',\n",
       "       'SkunkHash v2 Raptor', 'Slatechain', 'Stanford Folding',\n",
       "       'T-Inside', 'TRC10', 'Time Travel', 'Tribus', 'VBFT',\n",
       "       'VeChainThor Authority', 'X11', 'X11GOST', 'X13', 'X14', 'X15',\n",
       "       'X16R', 'XEVAN', 'XG Hash', 'YescryptR16', 'Zhash', 'vDPOS'],\n",
       "      dtype=object)"
      ]
     },
     "execution_count": 100,
     "metadata": {},
     "output_type": "execute_result"
    }
   ],
   "source": [
    "# Keep all the cryptocurrencies that have a working algorithm.\n",
    "np.unique(crypto_df.Algorithm)  # There are no columns without working algorithms"
   ]
  },
  {
   "cell_type": "code",
   "execution_count": 101,
   "metadata": {},
   "outputs": [],
   "source": [
    "# Remove the \"IsTrading\" column. \n",
    "crypto_df = crypto_df.drop(columns=['IsTrading'])"
   ]
  },
  {
   "cell_type": "code",
   "execution_count": 102,
   "metadata": {},
   "outputs": [
    {
     "data": {
      "text/plain": [
       "1144"
      ]
     },
     "execution_count": 102,
     "metadata": {},
     "output_type": "execute_result"
    }
   ],
   "source": [
    "len(crypto_df)"
   ]
  },
  {
   "cell_type": "code",
   "execution_count": 103,
   "metadata": {},
   "outputs": [
    {
     "data": {
      "text/plain": [
       "685"
      ]
     },
     "execution_count": 103,
     "metadata": {},
     "output_type": "execute_result"
    }
   ],
   "source": [
    "# Remove rows that have at least 1 null value.\n",
    "crypto_df.dropna(inplace=True)\n",
    "len(crypto_df)"
   ]
  },
  {
   "cell_type": "code",
   "execution_count": 104,
   "metadata": {},
   "outputs": [
    {
     "data": {
      "text/html": [
       "<div>\n",
       "<style scoped>\n",
       "    .dataframe tbody tr th:only-of-type {\n",
       "        vertical-align: middle;\n",
       "    }\n",
       "\n",
       "    .dataframe tbody tr th {\n",
       "        vertical-align: top;\n",
       "    }\n",
       "\n",
       "    .dataframe thead th {\n",
       "        text-align: right;\n",
       "    }\n",
       "</style>\n",
       "<table border=\"1\" class=\"dataframe\">\n",
       "  <thead>\n",
       "    <tr style=\"text-align: right;\">\n",
       "      <th></th>\n",
       "      <th>CoinName</th>\n",
       "      <th>Algorithm</th>\n",
       "      <th>ProofType</th>\n",
       "      <th>TotalCoinsMined</th>\n",
       "      <th>TotalCoinSupply</th>\n",
       "    </tr>\n",
       "  </thead>\n",
       "  <tbody>\n",
       "    <tr>\n",
       "      <th>42</th>\n",
       "      <td>42 Coin</td>\n",
       "      <td>Scrypt</td>\n",
       "      <td>PoW/PoS</td>\n",
       "      <td>4.199995e+01</td>\n",
       "      <td>42</td>\n",
       "    </tr>\n",
       "    <tr>\n",
       "      <th>404</th>\n",
       "      <td>404Coin</td>\n",
       "      <td>Scrypt</td>\n",
       "      <td>PoW/PoS</td>\n",
       "      <td>1.055185e+09</td>\n",
       "      <td>532000000</td>\n",
       "    </tr>\n",
       "    <tr>\n",
       "      <th>808</th>\n",
       "      <td>808</td>\n",
       "      <td>SHA-256</td>\n",
       "      <td>PoW/PoS</td>\n",
       "      <td>0.000000e+00</td>\n",
       "      <td>0</td>\n",
       "    </tr>\n",
       "    <tr>\n",
       "      <th>1337</th>\n",
       "      <td>EliteCoin</td>\n",
       "      <td>X13</td>\n",
       "      <td>PoW/PoS</td>\n",
       "      <td>2.927942e+10</td>\n",
       "      <td>314159265359</td>\n",
       "    </tr>\n",
       "    <tr>\n",
       "      <th>BTC</th>\n",
       "      <td>Bitcoin</td>\n",
       "      <td>SHA-256</td>\n",
       "      <td>PoW</td>\n",
       "      <td>1.792718e+07</td>\n",
       "      <td>21000000</td>\n",
       "    </tr>\n",
       "  </tbody>\n",
       "</table>\n",
       "</div>"
      ],
      "text/plain": [
       "       CoinName Algorithm ProofType  TotalCoinsMined TotalCoinSupply\n",
       "42      42 Coin    Scrypt   PoW/PoS     4.199995e+01              42\n",
       "404     404Coin    Scrypt   PoW/PoS     1.055185e+09       532000000\n",
       "808         808   SHA-256   PoW/PoS     0.000000e+00               0\n",
       "1337  EliteCoin       X13   PoW/PoS     2.927942e+10    314159265359\n",
       "BTC     Bitcoin   SHA-256       PoW     1.792718e+07        21000000"
      ]
     },
     "execution_count": 104,
     "metadata": {},
     "output_type": "execute_result"
    }
   ],
   "source": [
    "crypto_df.head()"
   ]
  },
  {
   "cell_type": "code",
   "execution_count": 105,
   "metadata": {},
   "outputs": [
    {
     "data": {
      "text/plain": [
       "533"
      ]
     },
     "execution_count": 105,
     "metadata": {},
     "output_type": "execute_result"
    }
   ],
   "source": [
    "# Keep the rows where coins are mined.\n",
    "crypto_df = crypto_df[crypto_df.apply(\n",
    "    lambda row: row[\"TotalCoinsMined\"] != 0, axis=1)]\n",
    "len(crypto_df)\n"
   ]
  },
  {
   "cell_type": "code",
   "execution_count": 108,
   "metadata": {},
   "outputs": [
    {
     "data": {
      "text/html": [
       "<div>\n",
       "<style scoped>\n",
       "    .dataframe tbody tr th:only-of-type {\n",
       "        vertical-align: middle;\n",
       "    }\n",
       "\n",
       "    .dataframe tbody tr th {\n",
       "        vertical-align: top;\n",
       "    }\n",
       "\n",
       "    .dataframe thead th {\n",
       "        text-align: right;\n",
       "    }\n",
       "</style>\n",
       "<table border=\"1\" class=\"dataframe\">\n",
       "  <thead>\n",
       "    <tr style=\"text-align: right;\">\n",
       "      <th></th>\n",
       "      <th>CoinName</th>\n",
       "    </tr>\n",
       "  </thead>\n",
       "  <tbody>\n",
       "    <tr>\n",
       "      <th>42</th>\n",
       "      <td>42 Coin</td>\n",
       "    </tr>\n",
       "    <tr>\n",
       "      <th>404</th>\n",
       "      <td>404Coin</td>\n",
       "    </tr>\n",
       "    <tr>\n",
       "      <th>1337</th>\n",
       "      <td>EliteCoin</td>\n",
       "    </tr>\n",
       "    <tr>\n",
       "      <th>BTC</th>\n",
       "      <td>Bitcoin</td>\n",
       "    </tr>\n",
       "    <tr>\n",
       "      <th>ETH</th>\n",
       "      <td>Ethereum</td>\n",
       "    </tr>\n",
       "  </tbody>\n",
       "</table>\n",
       "</div>"
      ],
      "text/plain": [
       "       CoinName\n",
       "42      42 Coin\n",
       "404     404Coin\n",
       "1337  EliteCoin\n",
       "BTC     Bitcoin\n",
       "ETH    Ethereum"
      ]
     },
     "execution_count": 108,
     "metadata": {},
     "output_type": "execute_result"
    }
   ],
   "source": [
    "# Create a new DataFrame that holds only the cryptocurrencies names.\n",
    "crypto_names = crypto_df.iloc[:, 0:1]\n",
    "crypto_names.head()"
   ]
  },
  {
   "cell_type": "code",
   "execution_count": 109,
   "metadata": {},
   "outputs": [],
   "source": [
    "# Drop the 'CoinName' column since it's not going to be used on the clustering algorithm.\n",
    "crypto_df.drop(columns=\"CoinName\", inplace=True)"
   ]
  },
  {
   "cell_type": "code",
   "execution_count": 111,
   "metadata": {},
   "outputs": [
    {
     "data": {
      "text/html": [
       "<div>\n",
       "<style scoped>\n",
       "    .dataframe tbody tr th:only-of-type {\n",
       "        vertical-align: middle;\n",
       "    }\n",
       "\n",
       "    .dataframe tbody tr th {\n",
       "        vertical-align: top;\n",
       "    }\n",
       "\n",
       "    .dataframe thead th {\n",
       "        text-align: right;\n",
       "    }\n",
       "</style>\n",
       "<table border=\"1\" class=\"dataframe\">\n",
       "  <thead>\n",
       "    <tr style=\"text-align: right;\">\n",
       "      <th></th>\n",
       "      <th>Algorithm</th>\n",
       "      <th>ProofType</th>\n",
       "      <th>TotalCoinsMined</th>\n",
       "      <th>TotalCoinSupply</th>\n",
       "    </tr>\n",
       "  </thead>\n",
       "  <tbody>\n",
       "    <tr>\n",
       "      <th>42</th>\n",
       "      <td>Scrypt</td>\n",
       "      <td>PoW/PoS</td>\n",
       "      <td>4.199995e+01</td>\n",
       "      <td>42</td>\n",
       "    </tr>\n",
       "    <tr>\n",
       "      <th>404</th>\n",
       "      <td>Scrypt</td>\n",
       "      <td>PoW/PoS</td>\n",
       "      <td>1.055185e+09</td>\n",
       "      <td>532000000</td>\n",
       "    </tr>\n",
       "    <tr>\n",
       "      <th>1337</th>\n",
       "      <td>X13</td>\n",
       "      <td>PoW/PoS</td>\n",
       "      <td>2.927942e+10</td>\n",
       "      <td>314159265359</td>\n",
       "    </tr>\n",
       "    <tr>\n",
       "      <th>BTC</th>\n",
       "      <td>SHA-256</td>\n",
       "      <td>PoW</td>\n",
       "      <td>1.792718e+07</td>\n",
       "      <td>21000000</td>\n",
       "    </tr>\n",
       "    <tr>\n",
       "      <th>ETH</th>\n",
       "      <td>Ethash</td>\n",
       "      <td>PoW</td>\n",
       "      <td>1.076842e+08</td>\n",
       "      <td>0</td>\n",
       "    </tr>\n",
       "    <tr>\n",
       "      <th>LTC</th>\n",
       "      <td>Scrypt</td>\n",
       "      <td>PoW</td>\n",
       "      <td>6.303924e+07</td>\n",
       "      <td>84000000</td>\n",
       "    </tr>\n",
       "    <tr>\n",
       "      <th>DASH</th>\n",
       "      <td>X11</td>\n",
       "      <td>PoW/PoS</td>\n",
       "      <td>9.031294e+06</td>\n",
       "      <td>22000000</td>\n",
       "    </tr>\n",
       "    <tr>\n",
       "      <th>XMR</th>\n",
       "      <td>CryptoNight-V7</td>\n",
       "      <td>PoW</td>\n",
       "      <td>1.720114e+07</td>\n",
       "      <td>0</td>\n",
       "    </tr>\n",
       "    <tr>\n",
       "      <th>ETC</th>\n",
       "      <td>Ethash</td>\n",
       "      <td>PoW</td>\n",
       "      <td>1.133597e+08</td>\n",
       "      <td>210000000</td>\n",
       "    </tr>\n",
       "    <tr>\n",
       "      <th>ZEC</th>\n",
       "      <td>Equihash</td>\n",
       "      <td>PoW</td>\n",
       "      <td>7.383056e+06</td>\n",
       "      <td>21000000</td>\n",
       "    </tr>\n",
       "  </tbody>\n",
       "</table>\n",
       "</div>"
      ],
      "text/plain": [
       "           Algorithm ProofType  TotalCoinsMined TotalCoinSupply\n",
       "42            Scrypt   PoW/PoS     4.199995e+01              42\n",
       "404           Scrypt   PoW/PoS     1.055185e+09       532000000\n",
       "1337             X13   PoW/PoS     2.927942e+10    314159265359\n",
       "BTC          SHA-256       PoW     1.792718e+07        21000000\n",
       "ETH           Ethash       PoW     1.076842e+08               0\n",
       "LTC           Scrypt       PoW     6.303924e+07        84000000\n",
       "DASH             X11   PoW/PoS     9.031294e+06        22000000\n",
       "XMR   CryptoNight-V7       PoW     1.720114e+07               0\n",
       "ETC           Ethash       PoW     1.133597e+08       210000000\n",
       "ZEC         Equihash       PoW     7.383056e+06        21000000"
      ]
     },
     "execution_count": 111,
     "metadata": {},
     "output_type": "execute_result"
    }
   ],
   "source": [
    "crypto_df.head(10)"
   ]
  },
  {
   "cell_type": "code",
   "execution_count": 143,
   "metadata": {},
   "outputs": [
    {
     "data": {
      "text/html": [
       "<div>\n",
       "<style scoped>\n",
       "    .dataframe tbody tr th:only-of-type {\n",
       "        vertical-align: middle;\n",
       "    }\n",
       "\n",
       "    .dataframe tbody tr th {\n",
       "        vertical-align: top;\n",
       "    }\n",
       "\n",
       "    .dataframe thead th {\n",
       "        text-align: right;\n",
       "    }\n",
       "</style>\n",
       "<table border=\"1\" class=\"dataframe\">\n",
       "  <thead>\n",
       "    <tr style=\"text-align: right;\">\n",
       "      <th></th>\n",
       "      <th>TotalCoinsMined</th>\n",
       "      <th>TotalCoinSupply</th>\n",
       "      <th>Algorithm_1GB AES Pattern Search</th>\n",
       "      <th>Algorithm_536</th>\n",
       "      <th>Algorithm_Argon2d</th>\n",
       "      <th>Algorithm_BLAKE256</th>\n",
       "      <th>Algorithm_Blake</th>\n",
       "      <th>Algorithm_Blake2S</th>\n",
       "      <th>Algorithm_Blake2b</th>\n",
       "      <th>Algorithm_C11</th>\n",
       "      <th>...</th>\n",
       "      <th>ProofType_PoW/PoS</th>\n",
       "      <th>ProofType_PoW/PoS</th>\n",
       "      <th>ProofType_PoW/PoW</th>\n",
       "      <th>ProofType_PoW/nPoS</th>\n",
       "      <th>ProofType_Pos</th>\n",
       "      <th>ProofType_Proof of Authority</th>\n",
       "      <th>ProofType_Proof of Trust</th>\n",
       "      <th>ProofType_TPoS</th>\n",
       "      <th>ProofType_Zero-Knowledge Proof</th>\n",
       "      <th>ProofType_dPoW/PoW</th>\n",
       "    </tr>\n",
       "  </thead>\n",
       "  <tbody>\n",
       "    <tr>\n",
       "      <th>42</th>\n",
       "      <td>4.199995e+01</td>\n",
       "      <td>42</td>\n",
       "      <td>0</td>\n",
       "      <td>0</td>\n",
       "      <td>0</td>\n",
       "      <td>0</td>\n",
       "      <td>0</td>\n",
       "      <td>0</td>\n",
       "      <td>0</td>\n",
       "      <td>0</td>\n",
       "      <td>...</td>\n",
       "      <td>1</td>\n",
       "      <td>0</td>\n",
       "      <td>0</td>\n",
       "      <td>0</td>\n",
       "      <td>0</td>\n",
       "      <td>0</td>\n",
       "      <td>0</td>\n",
       "      <td>0</td>\n",
       "      <td>0</td>\n",
       "      <td>0</td>\n",
       "    </tr>\n",
       "    <tr>\n",
       "      <th>404</th>\n",
       "      <td>1.055185e+09</td>\n",
       "      <td>532000000</td>\n",
       "      <td>0</td>\n",
       "      <td>0</td>\n",
       "      <td>0</td>\n",
       "      <td>0</td>\n",
       "      <td>0</td>\n",
       "      <td>0</td>\n",
       "      <td>0</td>\n",
       "      <td>0</td>\n",
       "      <td>...</td>\n",
       "      <td>1</td>\n",
       "      <td>0</td>\n",
       "      <td>0</td>\n",
       "      <td>0</td>\n",
       "      <td>0</td>\n",
       "      <td>0</td>\n",
       "      <td>0</td>\n",
       "      <td>0</td>\n",
       "      <td>0</td>\n",
       "      <td>0</td>\n",
       "    </tr>\n",
       "    <tr>\n",
       "      <th>1337</th>\n",
       "      <td>2.927942e+10</td>\n",
       "      <td>314159265359</td>\n",
       "      <td>0</td>\n",
       "      <td>0</td>\n",
       "      <td>0</td>\n",
       "      <td>0</td>\n",
       "      <td>0</td>\n",
       "      <td>0</td>\n",
       "      <td>0</td>\n",
       "      <td>0</td>\n",
       "      <td>...</td>\n",
       "      <td>1</td>\n",
       "      <td>0</td>\n",
       "      <td>0</td>\n",
       "      <td>0</td>\n",
       "      <td>0</td>\n",
       "      <td>0</td>\n",
       "      <td>0</td>\n",
       "      <td>0</td>\n",
       "      <td>0</td>\n",
       "      <td>0</td>\n",
       "    </tr>\n",
       "    <tr>\n",
       "      <th>BTC</th>\n",
       "      <td>1.792718e+07</td>\n",
       "      <td>21000000</td>\n",
       "      <td>0</td>\n",
       "      <td>0</td>\n",
       "      <td>0</td>\n",
       "      <td>0</td>\n",
       "      <td>0</td>\n",
       "      <td>0</td>\n",
       "      <td>0</td>\n",
       "      <td>0</td>\n",
       "      <td>...</td>\n",
       "      <td>0</td>\n",
       "      <td>0</td>\n",
       "      <td>0</td>\n",
       "      <td>0</td>\n",
       "      <td>0</td>\n",
       "      <td>0</td>\n",
       "      <td>0</td>\n",
       "      <td>0</td>\n",
       "      <td>0</td>\n",
       "      <td>0</td>\n",
       "    </tr>\n",
       "    <tr>\n",
       "      <th>ETH</th>\n",
       "      <td>1.076842e+08</td>\n",
       "      <td>0</td>\n",
       "      <td>0</td>\n",
       "      <td>0</td>\n",
       "      <td>0</td>\n",
       "      <td>0</td>\n",
       "      <td>0</td>\n",
       "      <td>0</td>\n",
       "      <td>0</td>\n",
       "      <td>0</td>\n",
       "      <td>...</td>\n",
       "      <td>0</td>\n",
       "      <td>0</td>\n",
       "      <td>0</td>\n",
       "      <td>0</td>\n",
       "      <td>0</td>\n",
       "      <td>0</td>\n",
       "      <td>0</td>\n",
       "      <td>0</td>\n",
       "      <td>0</td>\n",
       "      <td>0</td>\n",
       "    </tr>\n",
       "  </tbody>\n",
       "</table>\n",
       "<p>5 rows × 100 columns</p>\n",
       "</div>"
      ],
      "text/plain": [
       "      TotalCoinsMined TotalCoinSupply  Algorithm_1GB AES Pattern Search  \\\n",
       "42       4.199995e+01              42                                 0   \n",
       "404      1.055185e+09       532000000                                 0   \n",
       "1337     2.927942e+10    314159265359                                 0   \n",
       "BTC      1.792718e+07        21000000                                 0   \n",
       "ETH      1.076842e+08               0                                 0   \n",
       "\n",
       "      Algorithm_536  Algorithm_Argon2d  Algorithm_BLAKE256  Algorithm_Blake  \\\n",
       "42                0                  0                   0                0   \n",
       "404               0                  0                   0                0   \n",
       "1337              0                  0                   0                0   \n",
       "BTC               0                  0                   0                0   \n",
       "ETH               0                  0                   0                0   \n",
       "\n",
       "      Algorithm_Blake2S  Algorithm_Blake2b  Algorithm_C11  ...  \\\n",
       "42                    0                  0              0  ...   \n",
       "404                   0                  0              0  ...   \n",
       "1337                  0                  0              0  ...   \n",
       "BTC                   0                  0              0  ...   \n",
       "ETH                   0                  0              0  ...   \n",
       "\n",
       "      ProofType_PoW/PoS  ProofType_PoW/PoS   ProofType_PoW/PoW  \\\n",
       "42                    1                   0                  0   \n",
       "404                   1                   0                  0   \n",
       "1337                  1                   0                  0   \n",
       "BTC                   0                   0                  0   \n",
       "ETH                   0                   0                  0   \n",
       "\n",
       "      ProofType_PoW/nPoS  ProofType_Pos  ProofType_Proof of Authority  \\\n",
       "42                     0              0                             0   \n",
       "404                    0              0                             0   \n",
       "1337                   0              0                             0   \n",
       "BTC                    0              0                             0   \n",
       "ETH                    0              0                             0   \n",
       "\n",
       "      ProofType_Proof of Trust  ProofType_TPoS  \\\n",
       "42                           0               0   \n",
       "404                          0               0   \n",
       "1337                         0               0   \n",
       "BTC                          0               0   \n",
       "ETH                          0               0   \n",
       "\n",
       "      ProofType_Zero-Knowledge Proof  ProofType_dPoW/PoW  \n",
       "42                                 0                   0  \n",
       "404                                0                   0  \n",
       "1337                               0                   0  \n",
       "BTC                                0                   0  \n",
       "ETH                                0                   0  \n",
       "\n",
       "[5 rows x 100 columns]"
      ]
     },
     "execution_count": 143,
     "metadata": {},
     "output_type": "execute_result"
    }
   ],
   "source": [
    "# Use get_dummies() to create variables for text features.\n",
    "X = pd.get_dummies(crypto_df, columns=[\"Algorithm\", \"ProofType\"])\n",
    "X.head()"
   ]
  },
  {
   "cell_type": "code",
   "execution_count": 152,
   "metadata": {},
   "outputs": [],
   "source": [
    "# Standardize the data with StandardScaler().\n",
    "X = StandardScaler().fit_transform(X)"
   ]
  },
  {
   "cell_type": "markdown",
   "metadata": {},
   "source": [
    "### Deliverable 2: Reducing Data Dimensions Using PCA"
   ]
  },
  {
   "cell_type": "code",
   "execution_count": 154,
   "metadata": {},
   "outputs": [],
   "source": [
    "# Using PCA to reduce dimension to three principal components.\n",
    "X_pca = PCA(n_components=3).fit_transform(X)\n"
   ]
  },
  {
   "cell_type": "code",
   "execution_count": 164,
   "metadata": {},
   "outputs": [
    {
     "data": {
      "text/html": [
       "<div>\n",
       "<style scoped>\n",
       "    .dataframe tbody tr th:only-of-type {\n",
       "        vertical-align: middle;\n",
       "    }\n",
       "\n",
       "    .dataframe tbody tr th {\n",
       "        vertical-align: top;\n",
       "    }\n",
       "\n",
       "    .dataframe thead th {\n",
       "        text-align: right;\n",
       "    }\n",
       "</style>\n",
       "<table border=\"1\" class=\"dataframe\">\n",
       "  <thead>\n",
       "    <tr style=\"text-align: right;\">\n",
       "      <th></th>\n",
       "      <th>PC 1</th>\n",
       "      <th>PC 2</th>\n",
       "      <th>PC 3</th>\n",
       "    </tr>\n",
       "  </thead>\n",
       "  <tbody>\n",
       "    <tr>\n",
       "      <th>42</th>\n",
       "      <td>-0.334815</td>\n",
       "      <td>0.974565</td>\n",
       "      <td>-0.481614</td>\n",
       "    </tr>\n",
       "    <tr>\n",
       "      <th>404</th>\n",
       "      <td>-0.318125</td>\n",
       "      <td>0.974666</td>\n",
       "      <td>-0.482076</td>\n",
       "    </tr>\n",
       "    <tr>\n",
       "      <th>1337</th>\n",
       "      <td>2.296892</td>\n",
       "      <td>1.659245</td>\n",
       "      <td>-0.594772</td>\n",
       "    </tr>\n",
       "    <tr>\n",
       "      <th>BTC</th>\n",
       "      <td>-0.145035</td>\n",
       "      <td>-1.277566</td>\n",
       "      <td>0.182639</td>\n",
       "    </tr>\n",
       "    <tr>\n",
       "      <th>ETH</th>\n",
       "      <td>-0.144881</td>\n",
       "      <td>-1.997113</td>\n",
       "      <td>0.321603</td>\n",
       "    </tr>\n",
       "    <tr>\n",
       "      <th>LTC</th>\n",
       "      <td>-0.161816</td>\n",
       "      <td>-1.171525</td>\n",
       "      <td>0.012072</td>\n",
       "    </tr>\n",
       "    <tr>\n",
       "      <th>DASH</th>\n",
       "      <td>-0.387923</td>\n",
       "      <td>1.297584</td>\n",
       "      <td>-0.460690</td>\n",
       "    </tr>\n",
       "    <tr>\n",
       "      <th>XMR</th>\n",
       "      <td>-0.156348</td>\n",
       "      <td>-2.175064</td>\n",
       "      <td>0.400640</td>\n",
       "    </tr>\n",
       "    <tr>\n",
       "      <th>ETC</th>\n",
       "      <td>-0.143321</td>\n",
       "      <td>-1.997218</td>\n",
       "      <td>0.321575</td>\n",
       "    </tr>\n",
       "    <tr>\n",
       "      <th>ZEC</th>\n",
       "      <td>-0.153048</td>\n",
       "      <td>-2.103990</td>\n",
       "      <td>0.426244</td>\n",
       "    </tr>\n",
       "  </tbody>\n",
       "</table>\n",
       "</div>"
      ],
      "text/plain": [
       "          PC 1      PC 2      PC 3\n",
       "42   -0.334815  0.974565 -0.481614\n",
       "404  -0.318125  0.974666 -0.482076\n",
       "1337  2.296892  1.659245 -0.594772\n",
       "BTC  -0.145035 -1.277566  0.182639\n",
       "ETH  -0.144881 -1.997113  0.321603\n",
       "LTC  -0.161816 -1.171525  0.012072\n",
       "DASH -0.387923  1.297584 -0.460690\n",
       "XMR  -0.156348 -2.175064  0.400640\n",
       "ETC  -0.143321 -1.997218  0.321575\n",
       "ZEC  -0.153048 -2.103990  0.426244"
      ]
     },
     "execution_count": 164,
     "metadata": {},
     "output_type": "execute_result"
    }
   ],
   "source": [
    "# Create a DataFrame with the three principal components.\n",
    "pcs_df = pd.DataFrame(data=X_pca, columns=[\"PC 1\", \"PC 2\", \"PC 3\"])\n",
    "pcs_df = pcs_df.set_index(crypto_df.index)\n",
    "pcs_df.head(10)\n"
   ]
  },
  {
   "cell_type": "markdown",
   "metadata": {},
   "source": [
    "### Deliverable 3: Clustering Crytocurrencies Using K-Means\n",
    "\n",
    "#### Finding the Best Value for `k` Using the Elbow Curve"
   ]
  },
  {
   "cell_type": "code",
   "execution_count": 160,
   "metadata": {},
   "outputs": [
    {
     "name": "stderr",
     "output_type": "stream",
     "text": [
      "c:\\Users\\justi\\anaconda3\\envs\\mlenv\\lib\\site-packages\\sklearn\\cluster\\_kmeans.py:1037: UserWarning: KMeans is known to have a memory leak on Windows with MKL, when there are less chunks than available threads. You can avoid it by setting the environment variable OMP_NUM_THREADS=3.\n",
      "  \"KMeans is known to have a memory leak on Windows \"\n"
     ]
    },
    {
     "data": {},
     "metadata": {},
     "output_type": "display_data"
    },
    {
     "data": {
      "application/vnd.holoviews_exec.v0+json": "",
      "text/html": [
       "<div id='1242'>\n",
       "\n",
       "\n",
       "\n",
       "\n",
       "\n",
       "  <div class=\"bk-root\" id=\"1a6012ec-3dca-4835-9576-7a6ac90c27f8\" data-root-id=\"1242\"></div>\n",
       "</div>\n",
       "<script type=\"application/javascript\">(function(root) {\n",
       "  function embed_document(root) {\n",
       "    var docs_json = {\"cedde090-4a98-4d44-9e52-931705d91d7c\":{\"defs\":[{\"extends\":null,\"module\":null,\"name\":\"ReactiveHTML1\",\"overrides\":[],\"properties\":[]},{\"extends\":null,\"module\":null,\"name\":\"FlexBox1\",\"overrides\":[],\"properties\":[{\"default\":\"flex-start\",\"kind\":null,\"name\":\"align_content\"},{\"default\":\"flex-start\",\"kind\":null,\"name\":\"align_items\"},{\"default\":\"row\",\"kind\":null,\"name\":\"flex_direction\"},{\"default\":\"wrap\",\"kind\":null,\"name\":\"flex_wrap\"},{\"default\":\"flex-start\",\"kind\":null,\"name\":\"justify_content\"}]},{\"extends\":null,\"module\":null,\"name\":\"GridStack1\",\"overrides\":[],\"properties\":[{\"default\":\"warn\",\"kind\":null,\"name\":\"mode\"},{\"default\":null,\"kind\":null,\"name\":\"ncols\"},{\"default\":null,\"kind\":null,\"name\":\"nrows\"},{\"default\":true,\"kind\":null,\"name\":\"allow_resize\"},{\"default\":true,\"kind\":null,\"name\":\"allow_drag\"},{\"default\":[],\"kind\":null,\"name\":\"state\"}]},{\"extends\":null,\"module\":null,\"name\":\"click1\",\"overrides\":[],\"properties\":[{\"default\":\"\",\"kind\":null,\"name\":\"terminal_output\"},{\"default\":\"\",\"kind\":null,\"name\":\"debug_name\"},{\"default\":0,\"kind\":null,\"name\":\"clears\"}]},{\"extends\":null,\"module\":null,\"name\":\"TemplateActions1\",\"overrides\":[],\"properties\":[{\"default\":0,\"kind\":null,\"name\":\"open_modal\"},{\"default\":0,\"kind\":null,\"name\":\"close_modal\"}]},{\"extends\":null,\"module\":null,\"name\":\"MaterialTemplateActions1\",\"overrides\":[],\"properties\":[{\"default\":0,\"kind\":null,\"name\":\"open_modal\"},{\"default\":0,\"kind\":null,\"name\":\"close_modal\"}]}],\"roots\":{\"references\":[{\"attributes\":{},\"id\":\"1294\",\"type\":\"AllLabels\"},{\"attributes\":{},\"id\":\"1289\",\"type\":\"AllLabels\"},{\"attributes\":{\"end\":3997.660222165107,\"reset_end\":3997.660222165107,\"reset_start\":-216.84787425234813,\"start\":-216.84787425234813,\"tags\":[[[\"inertia\",\"inertia\",null]]]},\"id\":\"1245\",\"type\":\"Range1d\"},{\"attributes\":{},\"id\":\"1265\",\"type\":\"PanTool\"},{\"attributes\":{},\"id\":\"1268\",\"type\":\"ResetTool\"},{\"attributes\":{},\"id\":\"1264\",\"type\":\"SaveTool\"},{\"attributes\":{},\"id\":\"1266\",\"type\":\"WheelZoomTool\"},{\"attributes\":{\"overlay\":{\"id\":\"1269\"}},\"id\":\"1267\",\"type\":\"BoxZoomTool\"},{\"attributes\":{\"line_alpha\":0.2,\"line_color\":\"#30a2da\",\"line_width\":2,\"x\":{\"field\":\"k\"},\"y\":{\"field\":\"inertia\"}},\"id\":\"1282\",\"type\":\"Line\"},{\"attributes\":{},\"id\":\"1278\",\"type\":\"Selection\"},{\"attributes\":{},\"id\":\"1252\",\"type\":\"LinearScale\"},{\"attributes\":{\"coordinates\":null,\"group\":null,\"text\":\"Elbow Curve\",\"text_color\":\"black\",\"text_font_size\":\"12pt\"},\"id\":\"1248\",\"type\":\"Title\"},{\"attributes\":{},\"id\":\"1301\",\"type\":\"UnionRenderers\"},{\"attributes\":{\"axis\":{\"id\":\"1256\"},\"coordinates\":null,\"grid_line_color\":null,\"group\":null,\"ticker\":null},\"id\":\"1259\",\"type\":\"Grid\"},{\"attributes\":{\"margin\":[5,5,5,5],\"name\":\"HSpacer01988\",\"sizing_mode\":\"stretch_width\"},\"id\":\"1313\",\"type\":\"Spacer\"},{\"attributes\":{\"ticks\":[1,2,3,4,5,6,7,8,9,10]},\"id\":\"1286\",\"type\":\"FixedTicker\"},{\"attributes\":{},\"id\":\"1254\",\"type\":\"LinearScale\"},{\"attributes\":{\"tools\":[{\"id\":\"1246\"},{\"id\":\"1264\"},{\"id\":\"1265\"},{\"id\":\"1266\"},{\"id\":\"1267\"},{\"id\":\"1268\"}]},\"id\":\"1270\",\"type\":\"Toolbar\"},{\"attributes\":{\"axis_label\":\"inertia\",\"coordinates\":null,\"formatter\":{\"id\":\"1293\"},\"group\":null,\"major_label_policy\":{\"id\":\"1294\"},\"ticker\":{\"id\":\"1261\"}},\"id\":\"1260\",\"type\":\"LinearAxis\"},{\"attributes\":{\"axis_label\":\"k\",\"coordinates\":null,\"formatter\":{\"id\":\"1288\"},\"group\":null,\"major_label_policy\":{\"id\":\"1289\"},\"ticker\":{\"id\":\"1286\"}},\"id\":\"1256\",\"type\":\"LinearAxis\"},{\"attributes\":{\"bottom_units\":\"screen\",\"coordinates\":null,\"fill_alpha\":0.5,\"fill_color\":\"lightgrey\",\"group\":null,\"left_units\":\"screen\",\"level\":\"overlay\",\"line_alpha\":1.0,\"line_color\":\"black\",\"line_dash\":[4,4],\"line_width\":2,\"right_units\":\"screen\",\"syncable\":false,\"top_units\":\"screen\"},\"id\":\"1269\",\"type\":\"BoxAnnotation\"},{\"attributes\":{},\"id\":\"1293\",\"type\":\"BasicTickFormatter\"},{\"attributes\":{\"below\":[{\"id\":\"1256\"}],\"center\":[{\"id\":\"1259\"},{\"id\":\"1263\"}],\"height\":300,\"left\":[{\"id\":\"1260\"}],\"margin\":[5,5,5,5],\"min_border_bottom\":10,\"min_border_left\":10,\"min_border_right\":10,\"min_border_top\":10,\"renderers\":[{\"id\":\"1283\"}],\"sizing_mode\":\"fixed\",\"title\":{\"id\":\"1248\"},\"toolbar\":{\"id\":\"1270\"},\"width\":700,\"x_range\":{\"id\":\"1244\"},\"x_scale\":{\"id\":\"1252\"},\"y_range\":{\"id\":\"1245\"},\"y_scale\":{\"id\":\"1254\"}},\"id\":\"1247\",\"subtype\":\"Figure\",\"type\":\"Plot\"},{\"attributes\":{\"axis\":{\"id\":\"1260\"},\"coordinates\":null,\"dimension\":1,\"grid_line_color\":null,\"group\":null,\"ticker\":null},\"id\":\"1263\",\"type\":\"Grid\"},{\"attributes\":{\"margin\":[5,5,5,5],\"name\":\"HSpacer01987\",\"sizing_mode\":\"stretch_width\"},\"id\":\"1243\",\"type\":\"Spacer\"},{\"attributes\":{\"line_alpha\":0.1,\"line_color\":\"#30a2da\",\"line_width\":2,\"x\":{\"field\":\"k\"},\"y\":{\"field\":\"inertia\"}},\"id\":\"1281\",\"type\":\"Line\"},{\"attributes\":{},\"id\":\"1288\",\"type\":\"BasicTickFormatter\"},{\"attributes\":{\"children\":[{\"id\":\"1243\"},{\"id\":\"1247\"},{\"id\":\"1313\"}],\"margin\":[0,0,0,0],\"name\":\"Row01983\",\"tags\":[\"embedded\"]},\"id\":\"1242\",\"type\":\"Row\"},{\"attributes\":{\"end\":10.0,\"reset_end\":10.0,\"reset_start\":1.0,\"start\":1.0,\"tags\":[[[\"k\",\"k\",null]]]},\"id\":\"1244\",\"type\":\"Range1d\"},{\"attributes\":{\"coordinates\":null,\"data_source\":{\"id\":\"1277\"},\"glyph\":{\"id\":\"1280\"},\"group\":null,\"hover_glyph\":null,\"muted_glyph\":{\"id\":\"1282\"},\"nonselection_glyph\":{\"id\":\"1281\"},\"selection_glyph\":{\"id\":\"1285\"},\"view\":{\"id\":\"1284\"}},\"id\":\"1283\",\"type\":\"GlyphRenderer\"},{\"attributes\":{\"data\":{\"inertia\":{\"__ndarray__\":\"bdqJBed8rEBRfmLYeVmjQO8IcavmS5dAMB9ryeiMg0D+xVgbog97QLbIQ13yonJA6kRhe8DFbUACJipBaM9oQAuXQomUw2NA6SFvaI7LYEA=\",\"dtype\":\"float64\",\"order\":\"little\",\"shape\":[10]},\"k\":[1,2,3,4,5,6,7,8,9,10]},\"selected\":{\"id\":\"1278\"},\"selection_policy\":{\"id\":\"1301\"}},\"id\":\"1277\",\"type\":\"ColumnDataSource\"},{\"attributes\":{\"line_color\":\"#30a2da\",\"line_width\":2,\"x\":{\"field\":\"k\"},\"y\":{\"field\":\"inertia\"}},\"id\":\"1280\",\"type\":\"Line\"},{\"attributes\":{\"callback\":null,\"renderers\":[{\"id\":\"1283\"}],\"tags\":[\"hv_created\"],\"tooltips\":[[\"k\",\"@{k}\"],[\"inertia\",\"@{inertia}\"]]},\"id\":\"1246\",\"type\":\"HoverTool\"},{\"attributes\":{\"line_color\":\"#30a2da\",\"line_width\":2,\"x\":{\"field\":\"k\"},\"y\":{\"field\":\"inertia\"}},\"id\":\"1285\",\"type\":\"Line\"},{\"attributes\":{},\"id\":\"1261\",\"type\":\"BasicTicker\"},{\"attributes\":{\"source\":{\"id\":\"1277\"}},\"id\":\"1284\",\"type\":\"CDSView\"}],\"root_ids\":[\"1242\"]},\"title\":\"Bokeh Application\",\"version\":\"2.4.2\"}};\n",
       "    var render_items = [{\"docid\":\"cedde090-4a98-4d44-9e52-931705d91d7c\",\"root_ids\":[\"1242\"],\"roots\":{\"1242\":\"1a6012ec-3dca-4835-9576-7a6ac90c27f8\"}}];\n",
       "    root.Bokeh.embed.embed_items_notebook(docs_json, render_items);\n",
       "  }\n",
       "  if (root.Bokeh !== undefined && root.Bokeh.Panel !== undefined) {\n",
       "    embed_document(root);\n",
       "  } else {\n",
       "    var attempts = 0;\n",
       "    var timer = setInterval(function(root) {\n",
       "      if (root.Bokeh !== undefined && root.Bokeh.Panel !== undefined) {\n",
       "        clearInterval(timer);\n",
       "        embed_document(root);\n",
       "      } else if (document.readyState == \"complete\") {\n",
       "        attempts++;\n",
       "        if (attempts > 200) {\n",
       "          clearInterval(timer);\n",
       "          console.log(\"Bokeh: ERROR: Unable to run BokehJS code because BokehJS library is missing\");\n",
       "        }\n",
       "      }\n",
       "    }, 25, root)\n",
       "  }\n",
       "})(window);</script>"
      ],
      "text/plain": [
       ":Curve   [k]   (inertia)"
      ]
     },
     "execution_count": 160,
     "metadata": {
      "application/vnd.holoviews_exec.v0+json": {
       "id": "1242"
      }
     },
     "output_type": "execute_result"
    }
   ],
   "source": [
    "# Create an elbow curve to find the best value for K.\n",
    "inertia = []\n",
    "k = list(range(1, 11))\n",
    "\n",
    "for i in k:\n",
    "    km = KMeans(n_clusters=i, random_state=0)\n",
    "    km.fit(pcs_df)\n",
    "    inertia.append(km.inertia_)\n",
    "\n",
    "elbow_data = {\"k\": k, \"inertia\": inertia}\n",
    "df_elbow = pd.DataFrame(elbow_data)\n",
    "df_elbow.hvplot.line(x=\"k\", y=\"inertia\", title=\"Elbow Curve\", xticks = k)"
   ]
  },
  {
   "cell_type": "markdown",
   "metadata": {},
   "source": [
    "Running K-Means with `k=4`"
   ]
  },
  {
   "cell_type": "code",
   "execution_count": 161,
   "metadata": {},
   "outputs": [
    {
     "name": "stdout",
     "output_type": "stream",
     "text": [
      "[0 0 0 3 3 3 0 3 3 3 0 3 0 0 3 0 3 3 0 0 3 3 3 3 3 0 3 3 3 0 3 0 3 3 0 0 3\n",
      " 3 3 3 3 3 0 0 3 3 3 3 3 0 0 3 0 3 3 3 3 0 3 3 0 3 0 0 0 3 3 3 0 0 0 0 0 3\n",
      " 3 3 0 0 3 0 3 0 0 3 3 3 3 0 0 3 0 3 3 0 0 3 0 0 3 3 0 0 3 0 0 3 0 3 0 3 0\n",
      " 3 0 0 3 3 0 3 3 3 0 3 3 3 3 3 0 0 3 3 3 0 3 0 3 3 0 3 0 3 0 0 3 3 0 3 3 0\n",
      " 0 3 0 3 0 0 0 3 3 3 3 0 0 0 0 0 3 3 0 0 0 0 0 3 0 0 0 0 0 3 0 3 0 0 3 0 3\n",
      " 0 0 3 0 3 0 3 0 3 0 0 0 0 3 0 0 0 0 0 3 3 0 0 3 3 0 0 0 0 0 3 0 0 0 0 0 0\n",
      " 0 0 3 0 0 0 0 0 0 3 3 3 0 0 0 0 3 0 3 0 0 3 0 3 3 0 3 3 0 3 0 0 0 3 0 0 3\n",
      " 0 0 0 0 0 0 0 3 0 3 0 0 0 0 3 0 3 0 3 3 3 3 0 3 0 0 3 0 3 3 3 0 3 0 3 3 3\n",
      " 0 3 0 3 0 0 0 3 0 3 3 3 3 3 0 0 3 0 0 0 3 0 3 0 3 0 3 0 0 0 0 3 0 0 3 0 0\n",
      " 0 3 3 3 3 0 0 0 0 3 0 3 3 3 0 0 3 3 0 0 3 0 3 3 3 0 3 3 0 0 0 3 3 3 0 0 0\n",
      " 3 3 0 3 3 3 3 0 0 0 3 3 3 0 1 0 0 0 0 3 3 3 3 0 0 0 3 0 3 0 0 0 0 3 0 0 3\n",
      " 0 0 3 3 0 3 0 3 3 3 3 0 0 3 0 3 0 0 0 0 0 0 3 3 3 0 0 0 0 0 0 3 0 3 3 3 3\n",
      " 0 0 0 0 3 0 0 3 0 0 3 1 3 0 3 3 0 0 3 0 3 3 3 3 3 0 3 0 3 0 0 3 0 0 0 0 0\n",
      " 3 3 3 0 0 0 3 0 3 0 3 0 0 0 0 3 0 0 0 3 0 3 0 3 0 0 0 3 3 0 0 0 0 0 0 0 3\n",
      " 0 3 0 3 0 0 1 0 2 0 0 0 3 3 0]\n"
     ]
    }
   ],
   "source": [
    "# Initialize the K-Means model.\n",
    "model = KMeans(n_clusters=4, random_state=0)\n",
    "\n",
    "# Fit the model\n",
    "model.fit(pcs_df)\n",
    "\n",
    "# Predict clusters\n",
    "predictions = model.predict(pcs_df)\n",
    "print(predictions)"
   ]
  },
  {
   "cell_type": "code",
   "execution_count": 165,
   "metadata": {},
   "outputs": [
    {
     "data": {
      "text/html": [
       "<div>\n",
       "<style scoped>\n",
       "    .dataframe tbody tr th:only-of-type {\n",
       "        vertical-align: middle;\n",
       "    }\n",
       "\n",
       "    .dataframe tbody tr th {\n",
       "        vertical-align: top;\n",
       "    }\n",
       "\n",
       "    .dataframe thead th {\n",
       "        text-align: right;\n",
       "    }\n",
       "</style>\n",
       "<table border=\"1\" class=\"dataframe\">\n",
       "  <thead>\n",
       "    <tr style=\"text-align: right;\">\n",
       "      <th></th>\n",
       "      <th>PC 1</th>\n",
       "      <th>PC 2</th>\n",
       "      <th>PC 3</th>\n",
       "    </tr>\n",
       "  </thead>\n",
       "  <tbody>\n",
       "    <tr>\n",
       "      <th>42</th>\n",
       "      <td>-0.334815</td>\n",
       "      <td>0.974565</td>\n",
       "      <td>-0.481614</td>\n",
       "    </tr>\n",
       "    <tr>\n",
       "      <th>404</th>\n",
       "      <td>-0.318125</td>\n",
       "      <td>0.974666</td>\n",
       "      <td>-0.482076</td>\n",
       "    </tr>\n",
       "    <tr>\n",
       "      <th>1337</th>\n",
       "      <td>2.296892</td>\n",
       "      <td>1.659245</td>\n",
       "      <td>-0.594772</td>\n",
       "    </tr>\n",
       "    <tr>\n",
       "      <th>BTC</th>\n",
       "      <td>-0.145035</td>\n",
       "      <td>-1.277566</td>\n",
       "      <td>0.182639</td>\n",
       "    </tr>\n",
       "    <tr>\n",
       "      <th>ETH</th>\n",
       "      <td>-0.144881</td>\n",
       "      <td>-1.997113</td>\n",
       "      <td>0.321603</td>\n",
       "    </tr>\n",
       "  </tbody>\n",
       "</table>\n",
       "</div>"
      ],
      "text/plain": [
       "          PC 1      PC 2      PC 3\n",
       "42   -0.334815  0.974565 -0.481614\n",
       "404  -0.318125  0.974666 -0.482076\n",
       "1337  2.296892  1.659245 -0.594772\n",
       "BTC  -0.145035 -1.277566  0.182639\n",
       "ETH  -0.144881 -1.997113  0.321603"
      ]
     },
     "execution_count": 165,
     "metadata": {},
     "output_type": "execute_result"
    }
   ],
   "source": []
  },
  {
   "cell_type": "code",
   "execution_count": 172,
   "metadata": {},
   "outputs": [
    {
     "name": "stdout",
     "output_type": "stream",
     "text": [
      "(533, 9)\n"
     ]
    },
    {
     "data": {
      "text/html": [
       "<div>\n",
       "<style scoped>\n",
       "    .dataframe tbody tr th:only-of-type {\n",
       "        vertical-align: middle;\n",
       "    }\n",
       "\n",
       "    .dataframe tbody tr th {\n",
       "        vertical-align: top;\n",
       "    }\n",
       "\n",
       "    .dataframe thead th {\n",
       "        text-align: right;\n",
       "    }\n",
       "</style>\n",
       "<table border=\"1\" class=\"dataframe\">\n",
       "  <thead>\n",
       "    <tr style=\"text-align: right;\">\n",
       "      <th></th>\n",
       "      <th>Algorithm</th>\n",
       "      <th>ProofType</th>\n",
       "      <th>TotalCoinsMined</th>\n",
       "      <th>TotalCoinSupply</th>\n",
       "      <th>PC 1</th>\n",
       "      <th>PC 2</th>\n",
       "      <th>PC 3</th>\n",
       "      <th>CoinName</th>\n",
       "      <th>Class</th>\n",
       "    </tr>\n",
       "  </thead>\n",
       "  <tbody>\n",
       "    <tr>\n",
       "      <th>42</th>\n",
       "      <td>Scrypt</td>\n",
       "      <td>PoW/PoS</td>\n",
       "      <td>4.199995e+01</td>\n",
       "      <td>42</td>\n",
       "      <td>-0.334815</td>\n",
       "      <td>0.974565</td>\n",
       "      <td>-0.481614</td>\n",
       "      <td>42 Coin</td>\n",
       "      <td>0</td>\n",
       "    </tr>\n",
       "    <tr>\n",
       "      <th>404</th>\n",
       "      <td>Scrypt</td>\n",
       "      <td>PoW/PoS</td>\n",
       "      <td>1.055185e+09</td>\n",
       "      <td>532000000</td>\n",
       "      <td>-0.318125</td>\n",
       "      <td>0.974666</td>\n",
       "      <td>-0.482076</td>\n",
       "      <td>404Coin</td>\n",
       "      <td>0</td>\n",
       "    </tr>\n",
       "    <tr>\n",
       "      <th>1337</th>\n",
       "      <td>X13</td>\n",
       "      <td>PoW/PoS</td>\n",
       "      <td>2.927942e+10</td>\n",
       "      <td>314159265359</td>\n",
       "      <td>2.296892</td>\n",
       "      <td>1.659245</td>\n",
       "      <td>-0.594772</td>\n",
       "      <td>EliteCoin</td>\n",
       "      <td>0</td>\n",
       "    </tr>\n",
       "    <tr>\n",
       "      <th>BTC</th>\n",
       "      <td>SHA-256</td>\n",
       "      <td>PoW</td>\n",
       "      <td>1.792718e+07</td>\n",
       "      <td>21000000</td>\n",
       "      <td>-0.145035</td>\n",
       "      <td>-1.277566</td>\n",
       "      <td>0.182639</td>\n",
       "      <td>Bitcoin</td>\n",
       "      <td>3</td>\n",
       "    </tr>\n",
       "    <tr>\n",
       "      <th>ETH</th>\n",
       "      <td>Ethash</td>\n",
       "      <td>PoW</td>\n",
       "      <td>1.076842e+08</td>\n",
       "      <td>0</td>\n",
       "      <td>-0.144881</td>\n",
       "      <td>-1.997113</td>\n",
       "      <td>0.321603</td>\n",
       "      <td>Ethereum</td>\n",
       "      <td>3</td>\n",
       "    </tr>\n",
       "    <tr>\n",
       "      <th>LTC</th>\n",
       "      <td>Scrypt</td>\n",
       "      <td>PoW</td>\n",
       "      <td>6.303924e+07</td>\n",
       "      <td>84000000</td>\n",
       "      <td>-0.161816</td>\n",
       "      <td>-1.171525</td>\n",
       "      <td>0.012072</td>\n",
       "      <td>Litecoin</td>\n",
       "      <td>3</td>\n",
       "    </tr>\n",
       "    <tr>\n",
       "      <th>DASH</th>\n",
       "      <td>X11</td>\n",
       "      <td>PoW/PoS</td>\n",
       "      <td>9.031294e+06</td>\n",
       "      <td>22000000</td>\n",
       "      <td>-0.387923</td>\n",
       "      <td>1.297584</td>\n",
       "      <td>-0.460690</td>\n",
       "      <td>Dash</td>\n",
       "      <td>0</td>\n",
       "    </tr>\n",
       "    <tr>\n",
       "      <th>XMR</th>\n",
       "      <td>CryptoNight-V7</td>\n",
       "      <td>PoW</td>\n",
       "      <td>1.720114e+07</td>\n",
       "      <td>0</td>\n",
       "      <td>-0.156348</td>\n",
       "      <td>-2.175064</td>\n",
       "      <td>0.400640</td>\n",
       "      <td>Monero</td>\n",
       "      <td>3</td>\n",
       "    </tr>\n",
       "    <tr>\n",
       "      <th>ETC</th>\n",
       "      <td>Ethash</td>\n",
       "      <td>PoW</td>\n",
       "      <td>1.133597e+08</td>\n",
       "      <td>210000000</td>\n",
       "      <td>-0.143321</td>\n",
       "      <td>-1.997218</td>\n",
       "      <td>0.321575</td>\n",
       "      <td>Ethereum Classic</td>\n",
       "      <td>3</td>\n",
       "    </tr>\n",
       "    <tr>\n",
       "      <th>ZEC</th>\n",
       "      <td>Equihash</td>\n",
       "      <td>PoW</td>\n",
       "      <td>7.383056e+06</td>\n",
       "      <td>21000000</td>\n",
       "      <td>-0.153048</td>\n",
       "      <td>-2.103990</td>\n",
       "      <td>0.426244</td>\n",
       "      <td>ZCash</td>\n",
       "      <td>3</td>\n",
       "    </tr>\n",
       "  </tbody>\n",
       "</table>\n",
       "</div>"
      ],
      "text/plain": [
       "           Algorithm ProofType  TotalCoinsMined TotalCoinSupply      PC 1  \\\n",
       "42            Scrypt   PoW/PoS     4.199995e+01              42 -0.334815   \n",
       "404           Scrypt   PoW/PoS     1.055185e+09       532000000 -0.318125   \n",
       "1337             X13   PoW/PoS     2.927942e+10    314159265359  2.296892   \n",
       "BTC          SHA-256       PoW     1.792718e+07        21000000 -0.145035   \n",
       "ETH           Ethash       PoW     1.076842e+08               0 -0.144881   \n",
       "LTC           Scrypt       PoW     6.303924e+07        84000000 -0.161816   \n",
       "DASH             X11   PoW/PoS     9.031294e+06        22000000 -0.387923   \n",
       "XMR   CryptoNight-V7       PoW     1.720114e+07               0 -0.156348   \n",
       "ETC           Ethash       PoW     1.133597e+08       210000000 -0.143321   \n",
       "ZEC         Equihash       PoW     7.383056e+06        21000000 -0.153048   \n",
       "\n",
       "          PC 2      PC 3          CoinName  Class  \n",
       "42    0.974565 -0.481614           42 Coin      0  \n",
       "404   0.974666 -0.482076           404Coin      0  \n",
       "1337  1.659245 -0.594772         EliteCoin      0  \n",
       "BTC  -1.277566  0.182639           Bitcoin      3  \n",
       "ETH  -1.997113  0.321603          Ethereum      3  \n",
       "LTC  -1.171525  0.012072          Litecoin      3  \n",
       "DASH  1.297584 -0.460690              Dash      0  \n",
       "XMR  -2.175064  0.400640            Monero      3  \n",
       "ETC  -1.997218  0.321575  Ethereum Classic      3  \n",
       "ZEC  -2.103990  0.426244             ZCash      3  "
      ]
     },
     "execution_count": 172,
     "metadata": {},
     "output_type": "execute_result"
    }
   ],
   "source": [
    "# Create a new DataFrame including predicted clusters and cryptocurrencies features.\n",
    "# Concatentate the crypto_df and pcs_df DataFrames on the same columns.\n",
    "clustered_df = pd.concat([crypto_df, pcs_df], axis=1)\n",
    "\n",
    "#  Add a new column, \"CoinName\" to the clustered_df DataFrame that holds the names of the cryptocurrencies. \n",
    "clustered_df[\"CoinName\"] = crypto_names.CoinName\n",
    "\n",
    "#  Add a new column, \"Class\" to the clustered_df DataFrame that holds the predictions.\n",
    "clustered_df['Class'] = predictions\n",
    "\n",
    "# Print the shape of the clustered_df\n",
    "print(clustered_df.shape)\n",
    "clustered_df.head(10)"
   ]
  },
  {
   "cell_type": "markdown",
   "metadata": {},
   "source": [
    "### Deliverable 4: Visualizing Cryptocurrencies Results\n",
    "\n",
    "#### 3D-Scatter with Clusters"
   ]
  },
  {
   "cell_type": "code",
   "execution_count": 189,
   "metadata": {},
   "outputs": [
    {
     "data": {
      "application/vnd.plotly.v1+json": {
       "config": {
        "plotlyServerURL": "https://plot.ly"
       },
       "data": [
        {
         "customdata": [
          [
           "Scrypt"
          ],
          [
           "Scrypt"
          ],
          [
           "X13"
          ],
          [
           "X11"
          ],
          [
           "SHA-512"
          ],
          [
           "SHA-256"
          ],
          [
           "SHA-256"
          ],
          [
           "X15"
          ],
          [
           "Scrypt"
          ],
          [
           "Scrypt"
          ],
          [
           "Scrypt"
          ],
          [
           "Scrypt"
          ],
          [
           "Scrypt"
          ],
          [
           "Scrypt"
          ],
          [
           "Groestl"
          ],
          [
           "PoS"
          ],
          [
           "Scrypt"
          ],
          [
           "Scrypt"
          ],
          [
           "X11"
          ],
          [
           "X11"
          ],
          [
           "SHA3"
          ],
          [
           "Scrypt"
          ],
          [
           "SHA-256"
          ],
          [
           "Scrypt"
          ],
          [
           "X13"
          ],
          [
           "X13"
          ],
          [
           "NeoScrypt"
          ],
          [
           "Scrypt"
          ],
          [
           "Scrypt"
          ],
          [
           "Scrypt"
          ],
          [
           "X11"
          ],
          [
           "X11"
          ],
          [
           "Multiple"
          ],
          [
           "PHI1612"
          ],
          [
           "X11"
          ],
          [
           "Scrypt"
          ],
          [
           "Scrypt"
          ],
          [
           "Scrypt"
          ],
          [
           "X11"
          ],
          [
           "Multiple"
          ],
          [
           "X13"
          ],
          [
           "Scrypt"
          ],
          [
           "Shabal256"
          ],
          [
           "Counterparty"
          ],
          [
           "SHA-256"
          ],
          [
           "Groestl"
          ],
          [
           "Scrypt"
          ],
          [
           "X13"
          ],
          [
           "Scrypt"
          ],
          [
           "Scrypt"
          ],
          [
           "X13"
          ],
          [
           "X11"
          ],
          [
           "Scrypt"
          ],
          [
           "X11"
          ],
          [
           "SHA3"
          ],
          [
           "QUAIT"
          ],
          [
           "X11"
          ],
          [
           "Scrypt"
          ],
          [
           "X13"
          ],
          [
           "SHA-256"
          ],
          [
           "X15"
          ],
          [
           "BLAKE256"
          ],
          [
           "SHA-256"
          ],
          [
           "X11"
          ],
          [
           "SHA-256"
          ],
          [
           "NIST5"
          ],
          [
           "Scrypt"
          ],
          [
           "Scrypt"
          ],
          [
           "X11"
          ],
          [
           "Scrypt"
          ],
          [
           "SHA-256"
          ],
          [
           "Scrypt"
          ],
          [
           "PoS"
          ],
          [
           "X11"
          ],
          [
           "SHA-256"
          ],
          [
           "SHA-256"
          ],
          [
           "NIST5"
          ],
          [
           "X11"
          ],
          [
           "POS 3.0"
          ],
          [
           "Scrypt"
          ],
          [
           "Scrypt"
          ],
          [
           "Scrypt"
          ],
          [
           "X13"
          ],
          [
           "X11"
          ],
          [
           "X11"
          ],
          [
           "Scrypt"
          ],
          [
           "SHA-256"
          ],
          [
           "X11"
          ],
          [
           "Scrypt"
          ],
          [
           "Scrypt"
          ],
          [
           "Scrypt"
          ],
          [
           "Scrypt"
          ],
          [
           "SHA-256D"
          ],
          [
           "PoS"
          ],
          [
           "Scrypt"
          ],
          [
           "X11"
          ],
          [
           "PoS"
          ],
          [
           "X13"
          ],
          [
           "X14"
          ],
          [
           "PoS"
          ],
          [
           "SHA-256D"
          ],
          [
           "DPoS"
          ],
          [
           "X11"
          ],
          [
           "X13"
          ],
          [
           "X11"
          ],
          [
           "PoS"
          ],
          [
           "Scrypt"
          ],
          [
           "Scrypt"
          ],
          [
           "PoS"
          ],
          [
           "X11"
          ],
          [
           "SHA-256"
          ],
          [
           "Scrypt"
          ],
          [
           "X11"
          ],
          [
           "Scrypt"
          ],
          [
           "Scrypt"
          ],
          [
           "X11"
          ],
          [
           "Scrypt"
          ],
          [
           "Scrypt"
          ],
          [
           "Scrypt"
          ],
          [
           "Scrypt"
          ],
          [
           "Quark"
          ],
          [
           "QuBit"
          ],
          [
           "Scrypt"
          ],
          [
           "SHA-256"
          ],
          [
           "X11"
          ],
          [
           "Scrypt"
          ],
          [
           "Scrypt"
          ],
          [
           "Scrypt"
          ],
          [
           "Scrypt"
          ],
          [
           "X13"
          ],
          [
           "Scrypt"
          ],
          [
           "Scrypt"
          ],
          [
           "X11"
          ],
          [
           "Blake2S"
          ],
          [
           "X11"
          ],
          [
           "PoS"
          ],
          [
           "X11"
          ],
          [
           "PoS"
          ],
          [
           "X11"
          ],
          [
           "Scrypt"
          ],
          [
           "Scrypt"
          ],
          [
           "Scrypt"
          ],
          [
           "SHA-256"
          ],
          [
           "X11"
          ],
          [
           "Scrypt"
          ],
          [
           "PoS"
          ],
          [
           "Scrypt"
          ],
          [
           "X15"
          ],
          [
           "SHA-256"
          ],
          [
           "POS 3.0"
          ],
          [
           "536"
          ],
          [
           "NIST5"
          ],
          [
           "NIST5"
          ],
          [
           "Skein"
          ],
          [
           "X13"
          ],
          [
           "Scrypt"
          ],
          [
           "X13"
          ],
          [
           "SkunkHash v2 Raptor"
          ],
          [
           "Skein"
          ],
          [
           "X11"
          ],
          [
           "Scrypt"
          ],
          [
           "VeChainThor Authority"
          ],
          [
           "PoS"
          ],
          [
           "Scrypt"
          ],
          [
           "Scrypt"
          ],
          [
           "SHA-512"
          ],
          [
           "Ouroboros"
          ],
          [
           "X11"
          ],
          [
           "NeoScrypt"
          ],
          [
           "Scrypt"
          ],
          [
           "Lyra2REv2"
          ],
          [
           "Scrypt"
          ],
          [
           "SHA-256"
          ],
          [
           "NIST5"
          ],
          [
           "PHI1612"
          ],
          [
           "Scrypt"
          ],
          [
           "Quark"
          ],
          [
           "POS 2.0"
          ],
          [
           "Scrypt"
          ],
          [
           "SHA-256"
          ],
          [
           "X11"
          ],
          [
           "DPoS"
          ],
          [
           "NIST5"
          ],
          [
           "X13"
          ],
          [
           "Scrypt"
          ],
          [
           "NIST5"
          ],
          [
           "Quark"
          ],
          [
           "Scrypt"
          ],
          [
           "Scrypt"
          ],
          [
           "X11"
          ],
          [
           "Quark"
          ],
          [
           "Scrypt"
          ],
          [
           "Scrypt"
          ],
          [
           "X11"
          ],
          [
           "POS 3.0"
          ],
          [
           "Ethash"
          ],
          [
           "Scrypt"
          ],
          [
           "Scrypt"
          ],
          [
           "X13"
          ],
          [
           "Proof-of-BibleHash"
          ],
          [
           "SHA-256 + Hive"
          ],
          [
           "C11"
          ],
          [
           "X11"
          ],
          [
           "XEVAN"
          ],
          [
           "Scrypt"
          ],
          [
           "VBFT"
          ],
          [
           "NIST5"
          ],
          [
           "Scrypt"
          ],
          [
           "Scrypt"
          ],
          [
           "Scrypt"
          ],
          [
           "Green Protocol"
          ],
          [
           "PoS"
          ],
          [
           "Scrypt"
          ],
          [
           "Semux BFT consensus"
          ],
          [
           "Quark"
          ],
          [
           "PoS"
          ],
          [
           "X16R"
          ],
          [
           "Scrypt"
          ],
          [
           "XEVAN"
          ],
          [
           "Scrypt"
          ],
          [
           "Scrypt"
          ],
          [
           "Scrypt"
          ],
          [
           "SHA-256D"
          ],
          [
           "Scrypt"
          ],
          [
           "X15"
          ],
          [
           "Scrypt"
          ],
          [
           "Quark"
          ],
          [
           "SHA-256"
          ],
          [
           "DPoS"
          ],
          [
           "X16R"
          ],
          [
           "Quark"
          ],
          [
           "Quark"
          ],
          [
           "Scrypt"
          ],
          [
           "Lyra2REv2"
          ],
          [
           "Quark"
          ],
          [
           "Scrypt"
          ],
          [
           "X11"
          ],
          [
           "X11"
          ],
          [
           "Scrypt"
          ],
          [
           "PoS"
          ],
          [
           "Keccak"
          ],
          [
           "X11"
          ],
          [
           "Scrypt"
          ],
          [
           "SHA-512"
          ],
          [
           "XEVAN"
          ],
          [
           "XEVAN"
          ],
          [
           "X11"
          ],
          [
           "Quark"
          ],
          [
           "Scrypt"
          ],
          [
           "Quark"
          ],
          [
           "Quark"
          ],
          [
           "Scrypt"
          ],
          [
           "X11"
          ],
          [
           "Scrypt"
          ],
          [
           "XEVAN"
          ],
          [
           "SHA-256D"
          ],
          [
           "X11"
          ],
          [
           "X11"
          ],
          [
           "DPoS"
          ],
          [
           "Scrypt"
          ],
          [
           "X11"
          ],
          [
           "Scrypt"
          ],
          [
           "Scrypt"
          ],
          [
           "SHA-256"
          ],
          [
           "Scrypt"
          ],
          [
           "X11"
          ],
          [
           "Scrypt"
          ],
          [
           "SHA-256"
          ],
          [
           "X11"
          ],
          [
           "Scrypt"
          ],
          [
           "Scrypt"
          ],
          [
           "X11"
          ],
          [
           "Scrypt"
          ],
          [
           "PoS"
          ],
          [
           "X11"
          ],
          [
           "SHA-256"
          ],
          [
           "DPoS"
          ],
          [
           "Scrypt"
          ],
          [
           "Scrypt"
          ],
          [
           "NeoScrypt"
          ],
          [
           "SHA3-256"
          ],
          [
           "X13"
          ],
          [
           "DPoS"
          ],
          [
           "DPoS"
          ],
          [
           "SHA-256"
          ],
          [
           "PoS"
          ],
          [
           "PoS"
          ],
          [
           "SHA-256"
          ],
          [
           "Scrypt"
          ],
          [
           "Scrypt"
          ]
         ],
         "hovertemplate": "<b>%{hovertext}</b><br><br>Class=%{marker.color}<br>PC 1=%{x}<br>PC 2=%{y}<br>PC 3=%{z}<br>Algorithm=%{customdata[0]}<extra></extra>",
         "hovertext": [
          "42 Coin",
          "404Coin",
          "EliteCoin",
          "Dash",
          "Bitshares",
          "BitcoinDark",
          "PayCoin",
          "KoboCoin",
          "Aurora Coin",
          "BlueCoin",
          "EnergyCoin",
          "BitBar",
          "CryptoBullion",
          "CasinoCoin",
          "Diamond",
          "Exclusive Coin",
          "FlutterCoin",
          "HoboNickels",
          "HyperStake",
          "IOCoin",
          "MaxCoin",
          "MintCoin",
          "MazaCoin",
          "Nautilus Coin",
          "NavCoin",
          "OpalCoin",
          "Orbitcoin",
          "PotCoin",
          "PhoenixCoin",
          "Reddcoin",
          "SuperCoin",
          "SyncCoin",
          "TeslaCoin",
          "TittieCoin",
          "TorCoin",
          "UnitaryStatus Dollar",
          "UltraCoin",
          "VeriCoin",
          "X11 Coin",
          "Crypti",
          "StealthCoin",
          "ZCC Coin",
          "BurstCoin",
          "StorjCoin",
          "Neutron",
          "FairCoin",
          "RubyCoin",
          "Kore",
          "Dnotes",
          "8BIT Coin",
          "Sativa Coin",
          "Ucoin",
          "Vtorrent",
          "IslaCoin",
          "Nexus",
          "Droidz",
          "Squall Coin",
          "Diggits",
          "Paycon",
          "Emercoin",
          "EverGreenCoin",
          "Decred",
          "EDRCoin",
          "Hitcoin",
          "DubaiCoin",
          "PWR Coin",
          "BillaryCoin",
          "GPU Coin",
          "EuropeCoin",
          "ZeitCoin",
          "SwingCoin",
          "SafeExchangeCoin",
          "Nebuchadnezzar",
          "Ratecoin",
          "Revenu",
          "Clockcoin",
          "VIP Tokens",
          "BitSend",
          "Let it Ride",
          "PutinCoin",
          "iBankCoin",
          "Frankywillcoin",
          "MudraCoin",
          "Lutetium Coin",
          "GoldBlocks",
          "CarterCoin",
          "BitTokens",
          "MustangCoin",
          "ZoneCoin",
          "RootCoin",
          "BitCurrency",
          "Swiscoin",
          "BuzzCoin",
          "Opair",
          "PesoBit",
          "Halloween Coin",
          "CoffeeCoin",
          "RoyalCoin",
          "GanjaCoin V2",
          "TeamUP",
          "LanaCoin",
          "ARK",
          "InsaneCoin",
          "EmberCoin",
          "XenixCoin",
          "FreeCoin",
          "PLNCoin",
          "AquariusCoin",
          "Creatio",
          "Eternity",
          "Eurocoin",
          "BitcoinFast",
          "Stakenet",
          "BitConnect Coin",
          "MoneyCoin",
          "Enigma",
          "Russiacoin",
          "PandaCoin",
          "GameUnits",
          "GAKHcoin",
          "Allsafe",
          "LiteCreed",
          "Klingon Empire Darsek",
          "Internet of People",
          "KushCoin",
          "Printerium",
          "Impeach",
          "Zilbercoin",
          "FirstCoin",
          "FindCoin",
          "OpenChat",
          "RenosCoin",
          "VirtacoinPlus",
          "TajCoin",
          "Impact",
          "Atmos",
          "HappyCoin",
          "MacronCoin",
          "Condensate",
          "Independent Money System",
          "ArgusCoin",
          "LomoCoin",
          "ProCurrency",
          "GoldReserve",
          "GrowthCoin",
          "Phreak",
          "Degas Coin",
          "HTML5 Coin",
          "Ultimate Secure Cash",
          "QTUM",
          "Espers",
          "Denarius",
          "Virta Unique Coin",
          "Bitcoin Planet",
          "BritCoin",
          "Linda",
          "DeepOnion",
          "Signatum",
          "Cream",
          "Monoeci",
          "Draftcoin",
          "Vechain",
          "Stakecoin",
          "CoinonatX",
          "Ethereum Dark",
          "Obsidian",
          "Cardano",
          "Regalcoin",
          "TrezarCoin",
          "TerraNovaCoin",
          "Rupee",
          "WomenCoin",
          "Theresa May Coin",
          "NamoCoin",
          "LUXCoin",
          "Xios",
          "Bitcloud 2.0",
          "KekCoin",
          "BlackholeCoin",
          "Infinity Economics",
          "Magnet",
          "Lamden Tau",
          "Electra",
          "Bitcoin Diamond",
          "Cash & Back Coin",
          "Bulwark",
          "Kalkulus",
          "GermanCoin",
          "LiteCoin Ultra",
          "PhantomX",
          "Digiwage",
          "Trollcoin",
          "Litecoin Plus",
          "Monkey Project",
          "TokenPay",
          "1717 Masonic Commemorative Token",
          "My Big Coin",
          "Unified Society USDEX",
          "Tokyo Coin",
          "BiblePay",
          "LitecoinCash",
          "Stipend",
          "Pushi",
          "Ellerium",
          "Velox",
          "Ontology",
          "Bitspace",
          "Briacoin",
          "Ignition",
          "MedicCoin",
          "Bitcoin Green",
          "Deviant Coin",
          "Abjcoin",
          "Semux",
          "Carebit",
          "Zealium",
          "Proton",
          "iDealCash",
          "Bitcoin Incognito",
          "HollyWoodCoin",
          "Swisscoin",
          "Xt3ch",
          "TheVig",
          "EmaratCoin",
          "Dekado",
          "Lynx",
          "Poseidon Quark",
          "BitcoinWSpectrum",
          "Muse",
          "Trivechain",
          "Dystem",
          "Giant",
          "Peony Coin",
          "Absolute Coin",
          "Vitae",
          "TPCash",
          "ARENON",
          "EUNO",
          "MMOCoin",
          "Ketan",
          "XDNA",
          "PAXEX",
          "ThunderStake",
          "Kcash",
          "Bettex coin",
          "BitMoney",
          "Junson Ming Chan Coin",
          "HerbCoin",
          "Oduwa",
          "Galilel",
          "Crypto Sports",
          "Credit",
          "Dash Platinum",
          "Nasdacoin",
          "Beetle Coin",
          "Titan Coin",
          "Award",
          "Insane Coin",
          "ALAX",
          "LiteDoge",
          "TruckCoin",
          "OrangeCoin",
          "BitstarCoin",
          "NeosCoin",
          "HyperCoin",
          "PinkCoin",
          "AudioCoin",
          "IncaKoin",
          "Piggy Coin",
          "Genstake",
          "XiaoMiCoin",
          "CapriCoin",
          " ClubCoin",
          "Radium",
          "Creditbit ",
          "OKCash",
          "Lisk",
          "HiCoin",
          "WhiteCoin",
          "FriendshipCoin",
          "Fiii",
          "Triangles Coin",
          "EOS",
          "Oxycoin",
          "TigerCash",
          "Particl",
          "Nxt",
          "ZEPHYR",
          "Gapcoin",
          "BitcoinPlus"
         ],
         "legendgroup": "0",
         "marker": {
          "color": [
           0,
           0,
           0,
           0,
           0,
           0,
           0,
           0,
           0,
           0,
           0,
           0,
           0,
           0,
           0,
           0,
           0,
           0,
           0,
           0,
           0,
           0,
           0,
           0,
           0,
           0,
           0,
           0,
           0,
           0,
           0,
           0,
           0,
           0,
           0,
           0,
           0,
           0,
           0,
           0,
           0,
           0,
           0,
           0,
           0,
           0,
           0,
           0,
           0,
           0,
           0,
           0,
           0,
           0,
           0,
           0,
           0,
           0,
           0,
           0,
           0,
           0,
           0,
           0,
           0,
           0,
           0,
           0,
           0,
           0,
           0,
           0,
           0,
           0,
           0,
           0,
           0,
           0,
           0,
           0,
           0,
           0,
           0,
           0,
           0,
           0,
           0,
           0,
           0,
           0,
           0,
           0,
           0,
           0,
           0,
           0,
           0,
           0,
           0,
           0,
           0,
           0,
           0,
           0,
           0,
           0,
           0,
           0,
           0,
           0,
           0,
           0,
           0,
           0,
           0,
           0,
           0,
           0,
           0,
           0,
           0,
           0,
           0,
           0,
           0,
           0,
           0,
           0,
           0,
           0,
           0,
           0,
           0,
           0,
           0,
           0,
           0,
           0,
           0,
           0,
           0,
           0,
           0,
           0,
           0,
           0,
           0,
           0,
           0,
           0,
           0,
           0,
           0,
           0,
           0,
           0,
           0,
           0,
           0,
           0,
           0,
           0,
           0,
           0,
           0,
           0,
           0,
           0,
           0,
           0,
           0,
           0,
           0,
           0,
           0,
           0,
           0,
           0,
           0,
           0,
           0,
           0,
           0,
           0,
           0,
           0,
           0,
           0,
           0,
           0,
           0,
           0,
           0,
           0,
           0,
           0,
           0,
           0,
           0,
           0,
           0,
           0,
           0,
           0,
           0,
           0,
           0,
           0,
           0,
           0,
           0,
           0,
           0,
           0,
           0,
           0,
           0,
           0,
           0,
           0,
           0,
           0,
           0,
           0,
           0,
           0,
           0,
           0,
           0,
           0,
           0,
           0,
           0,
           0,
           0,
           0,
           0,
           0,
           0,
           0,
           0,
           0,
           0,
           0,
           0,
           0,
           0,
           0,
           0,
           0,
           0,
           0,
           0,
           0,
           0,
           0,
           0,
           0,
           0,
           0,
           0,
           0,
           0,
           0,
           0,
           0,
           0,
           0,
           0,
           0,
           0,
           0,
           0,
           0,
           0,
           0,
           0,
           0,
           0,
           0,
           0,
           0,
           0,
           0,
           0,
           0,
           0,
           0,
           0,
           0
          ],
          "coloraxis": "coloraxis",
          "symbol": "circle"
         },
         "mode": "markers",
         "name": "0",
         "scene": "scene",
         "showlegend": true,
         "type": "scatter3d",
         "x": [
          -0.3348149925818651,
          -0.3181248616729504,
          2.2968916803179713,
          -0.38792258126389517,
          -0.2932032227649592,
          -0.3168629140478489,
          -0.26590558243065365,
          -0.24985097767142408,
          -0.3344740326916224,
          -0.327037821802496,
          -0.3333087854579707,
          -0.33481092397759593,
          -0.3347951787449539,
          0.6279926381690855,
          -0.3816117853447849,
          -0.3314727142824428,
          -0.2987792657698429,
          -0.33287083953474866,
          -0.3167515492340213,
          -0.3878170827759218,
          -0.42013057685036354,
          -0.02329760975001545,
          -0.28011456097661674,
          -0.2836084301711318,
          -0.29010515068559667,
          -0.29072850942468004,
          -0.3592216155155646,
          -0.3291090221836677,
          -0.3332143191841653,
          0.02398831283281304,
          -0.33667490524761345,
          -0.38818922082567486,
          -0.24047570320653502,
          -0.33818464615195337,
          -0.3881007519808039,
          -0.31001006589104757,
          -0.333490493068155,
          -0.31277118285273126,
          -0.3880651377294787,
          -0.24094375853922706,
          -0.2905089678949538,
          -0.32590714694594725,
          -0.11112165951273055,
          -0.332971051860952,
          -0.3160734240289325,
          -0.381032255377661,
          -0.2835885644959374,
          -0.2908041012193339,
          -0.2782354594625206,
          -0.33479702798328426,
          -0.2907561873571099,
          -0.3371206813599612,
          -0.33453102835050497,
          -0.3881707155842091,
          -0.4186448372350895,
          -0.4428231871409149,
          -0.34275077475310917,
          -0.2819876961333494,
          -0.29027715987374364,
          -0.3094112461444026,
          -0.2522951615902345,
          -0.07235177166059088,
          -0.31683377425277,
          -0.06518830646948602,
          -0.31689752335212984,
          -0.2512061084557164,
          -0.3344067998736399,
          -0.2818571628689559,
          -0.3853367916466718,
          0.8711401461824608,
          -0.31669737849146934,
          -0.10391930288245649,
          -0.3311555124073239,
          -0.38601013741069956,
          -0.31543960282946704,
          -0.31310518573991636,
          -0.3727894903121156,
          -0.3869043330996882,
          -0.35671410987170743,
          -0.3106701906114689,
          -0.33444498075243106,
          -0.33288140470657024,
          -0.23853979947827833,
          -0.32459185607845803,
          -0.38764392358283567,
          -0.33364798712403304,
          -0.31687849775580224,
          -0.38815990366145176,
          -0.33463436437150673,
          -0.3347912504255069,
          -0.28184550904601624,
          -0.2267838875068644,
          0.025791139978384097,
          -0.33011096074313806,
          -0.3344046943969702,
          -0.37430493710954016,
          -0.32943817290229344,
          -0.23997196269091778,
          -0.45406725014755905,
          -0.32918808171163144,
          -0.28924737794600053,
          3.7096121327929548,
          -0.38775184204151697,
          0.8434977044004881,
          -0.38811473483727554,
          -0.33057543580110277,
          -0.3343323271347932,
          -0.3344869573659987,
          -0.3311555124073239,
          -0.38768916326740405,
          -0.31674091148548184,
          -0.33433303390771146,
          -0.3372387838255403,
          -0.33448066941772703,
          -0.3300639725690429,
          -0.38814378857423854,
          -0.3336905515277581,
          0.3606729157313179,
          -0.334680231301373,
          -0.33475087967297235,
          -0.359476596613849,
          -0.35963266951559164,
          -0.3309734014452136,
          -0.31685486787305445,
          -0.3880535976308733,
          -0.33452837233945726,
          -0.3346555706435524,
          -0.28349520407627005,
          -0.25396678804498657,
          -0.23973945392062102,
          -0.31547910651993016,
          -0.2832357434156457,
          -0.38731848461192786,
          -0.4600662120847699,
          -0.3860545792381311,
          -0.32939932248005954,
          -0.38721618116396067,
          -0.32379047837962444,
          -0.3831518655119419,
          -0.3345987484350553,
          -0.33459797753071896,
          -0.3277123306804989,
          0.2673302378141861,
          -0.3876952141578865,
          -0.2661159342876713,
          -0.3311899249615293,
          -0.3338084391181781,
          0.8836812078008399,
          -0.2645946051931719,
          -0.35549056931288603,
          0.5786642997176116,
          -0.3743275369521622,
          -0.37282760249869024,
          -0.42663290128376413,
          -0.29044080959707774,
          0.13071617843941996,
          -0.29051165165742077,
          -0.3518810385150572,
          -0.4261368720051103,
          -0.38796793404416835,
          -0.283569336651395,
          4.348148204523312,
          -0.33105612596649386,
          -0.3342334192632563,
          -0.3347337826691036,
          -0.351355314992773,
          0.6383208982622633,
          -0.38790874863015373,
          -0.35421379632158656,
          -0.3346893792722845,
          -0.3075361399358273,
          0.4357107279503524,
          -0.31519851712452257,
          -0.3590727797218365,
          -0.42472916562368673,
          -0.33463965521953726,
          -0.4088102861347297,
          -0.3257105901960985,
          -0.3345097809427623,
          -0.09211812250270723,
          -0.3866998143938473,
          3.7144750534345268,
          0.1860336978317486,
          -0.28717740330465974,
          -0.33196643397266345,
          -0.3231970233651585,
          -0.3593623170989689,
          0.08012569921464471,
          -0.33364746397787,
          -0.38728151243701925,
          -0.3585260600613552,
          -0.32119437403097906,
          -0.3347559539537435,
          -0.337092564478248,
          -0.35699650049498016,
          -0.2669054617777544,
          -0.2866749036671629,
          -0.33029423121364976,
          -0.2315243626451786,
          -0.19019487775902577,
          -0.34851932884917075,
          -0.37285475013602937,
          -0.38798529597064035,
          -0.3085906645838391,
          -0.28272835330104246,
          -0.31269758666226233,
          -0.3739259759155526,
          -0.3347833537128931,
          -0.33476504189561745,
          -0.27710146513396117,
          -0.33523862295533935,
          -0.33064997928877216,
          -0.3344811662369619,
          3.933123666636656,
          -0.40747585439262957,
          -0.33083895285860376,
          -0.3196178152401346,
          -0.2812808793064403,
          -0.26330465344260245,
          -0.2832630287519539,
          -0.13758894727872195,
          -0.2835156507332949,
          -0.3546425227318444,
          -0.33395452203367365,
          -0.2007443354723738,
          2.2703588091539593,
          -0.3550657771186652,
          -0.264722020474939,
          1.0116272230285883,
          -0.36984705785959243,
          -0.3594760641586333,
          -0.4104964790058075,
          -0.16411888473055095,
          -0.3583581587891716,
          -0.3581936649724945,
          -0.327652311355665,
          -0.3366693777297802,
          -0.38745779678491354,
          -0.2807572245977855,
          -0.3299377981354898,
          -0.3474666482288445,
          -0.3365307456249871,
          -0.1941040762088243,
          -0.38807832839945194,
          -0.2576899797108402,
          0.5585825199330654,
          -0.12665735991287339,
          -0.4097900726625612,
          -0.33448509848206615,
          -0.4102468424305813,
          -0.3595932151368968,
          0.573292889685499,
          -0.33714697265480414,
          -0.33396740775520645,
          -0.30303844495082927,
          -0.30930540285391195,
          -0.3850199606979713,
          -0.38768534388336556,
          3.726736629277338,
          0.10105713917615326,
          -0.3852202944492336,
          -0.3333523923906257,
          -0.33417811926019503,
          -0.2659383184839607,
          -0.3346971138257395,
          -0.379300288764458,
          -0.24829776882771581,
          -0.09611600655195172,
          -0.3750435178388463,
          -0.33397418461840206,
          -0.32702780781601143,
          -0.38424859413629897,
          -0.3324112827363494,
          -0.3314315917169322,
          -0.3313952136499567,
          -0.3153756897656039,
          3.7100044800575636,
          -0.09049671892173237,
          -0.3296016477336546,
          -0.3588470891048006,
          -0.5331635616739511,
          -0.290911438766481,
          3.719891537717532,
          3.7211379650809477,
          -0.24680521737266872,
          -0.33136733808627744,
          -0.28271305590575163,
          2.468655201210887,
          -0.33285811142591915,
          -0.283912617639481
         ],
         "y": [
          0.9745652449289858,
          0.9746656147103266,
          1.6592454588949026,
          1.2975841121385943,
          1.7864162455934889,
          0.8684966163431639,
          0.6521099836548546,
          1.8880190326457766,
          0.9745630764989032,
          0.9747892652589429,
          0.9746086310413361,
          0.9745650046479124,
          0.9745651006804303,
          0.2812594623729318,
          0.9642634665997613,
          1.5731020058816068,
          0.016239209359563248,
          0.974535444410079,
          1.081788669887098,
          1.2975871510075585,
          1.9736078607130574,
          0.7656772149191357,
          0.8678411174446867,
          0.7581674297856271,
          1.809355449687189,
          1.8093374939272278,
          0.5255694349344362,
          0.9744292990212262,
          0.97454128082114,
          0.9849005232207204,
          1.0812147804462815,
          1.2975921612024544,
          0.11692768855400795,
          1.593303072522329,
          1.2975875601165325,
          0.9741357259981827,
          0.974531895644939,
          -0.02832602651684125,
          1.297591803540037,
          0.11698570762110301,
          1.8093438177898156,
          0.9741068208427432,
          0.5923223588491275,
          1.5309947742216299,
          0.868486466877185,
          0.9642832916366206,
          0.7581795709295003,
          1.8093267363561778,
          0.7579762596873942,
          0.9745657624267278,
          1.8093295465348656,
          1.0811876396617688,
          0.9745591242414801,
          1.2975926949583203,
          2.1084326398313187,
          1.9011582752038971,
          0.7559857496159378,
          0.7581541823808698,
          1.809314744319705,
          0.8680119775276746,
          1.8881800795248391,
          0.9587612021500608,
          0.8684974557108233,
          1.2879125530820592,
          0.868503842080535,
          1.518603605793937,
          0.9745469723315275,
          0.7580713881257012,
          1.2973997606104823,
          0.7206550463233159,
          0.8684885143311512,
          0.287241897173709,
          1.5730968425696787,
          1.2976013041049352,
          0.8683940935670446,
          0.8682452054609924,
          1.5150370625436,
          1.297529786071019,
          1.4622542404148162,
          0.9738307058613962,
          0.9745442041725028,
          0.9745494403487028,
          1.5928365356210792,
          1.0810930671941936,
          1.2975721184598696,
          0.974534509184473,
          0.8684968824700141,
          1.2975908613541856,
          0.9745554326487238,
          0.9745659288484588,
          0.7582297793942181,
          0.18471063886343517,
          1.964563524874228,
          1.5730883200114134,
          0.9745770635399694,
          1.2969195767209891,
          1.5731320100962893,
          1.5929364974100622,
          1.8861615314315276,
          1.5729525953815764,
          1.9644222618324827,
          1.8361078440101533,
          1.2975833101508902,
          1.8414009576109853,
          1.2975915522957187,
          1.5730921011936023,
          0.9745515914543684,
          0.9745446634063429,
          1.5730968425696787,
          1.2975636652037312,
          0.8685015606363379,
          0.9745555322698053,
          0.9260698746637626,
          0.9745548547166284,
          0.9742368669522564,
          1.2975898955202942,
          0.9744946724022441,
          0.7534888318911875,
          0.9745598315650811,
          0.9745647208888693,
          1.4658983958567802,
          0.6079129992344737,
          0.9743183947737521,
          0.8684975631254315,
          1.297589380289507,
          0.9745592007475009,
          0.9745541544595189,
          0.7581429344291627,
          0.21115054971071168,
          1.5929345969515551,
          0.9744071990664127,
          0.7581651185387552,
          1.2975457420159695,
          1.8014771853471996,
          1.2975749984973355,
          1.5730828707947915,
          1.2975486888522614,
          1.5730372862579416,
          1.2973797555495232,
          0.97455630689137,
          0.9745510466650845,
          0.9740548227816095,
          0.6138527025369654,
          1.297577791175588,
          0.757252840871733,
          1.573088701187493,
          0.9745191621873921,
          1.8565693199156463,
          0.6520136209617294,
          1.4622419359394334,
          1.9563678874178458,
          1.51504996039613,
          1.5150145143271305,
          1.94882414489978,
          1.809324330679561,
          0.9522241369897336,
          1.8093302280280759,
          1.4377763595811492,
          1.9488384329527146,
          1.2975917382261473,
          0.7581676793403463,
          4.077752274665656,
          1.573069960851872,
          0.9745474962719571,
          0.9745645811429731,
          1.7872502944767392,
          1.4177101193697126,
          1.2975809355189198,
          0.5254303747175548,
          0.9745576136895073,
          0.6866075256293723,
          0.9788847953006887,
          0.8684887880192919,
          1.5146385056315317,
          1.8102730438372558,
          0.9745552802465978,
          1.6822063124830868,
          1.655718505686591,
          0.974563462722259,
          0.6506897243227738,
          1.297532102136574,
          1.835979789744359,
          1.509747835978613,
          1.8092896302323247,
          0.9744971444828281,
          1.2986488563001581,
          1.4658981125952542,
          0.9507668854196105,
          0.9744916234529305,
          1.297582557661462,
          1.4658506995259843,
          0.9743140729318245,
          0.9745640855049363,
          1.0811877345512084,
          1.4622521838064448,
          -0.06747716941321003,
          0.11474730348053508,
          0.974529581752258,
          1.5926096062759207,
          2.2490948746161092,
          2.1652031216007783,
          0.9973085679843713,
          1.2975801606103372,
          1.3847750475224505,
          0.758115687536052,
          1.420172410226543,
          1.5150329267709717,
          0.9745640112721099,
          0.9745631087147161,
          0.758008924232999,
          1.4968280944587615,
          1.57306278347192,
          0.9745534103791311,
          1.9643934697148702,
          1.6822447505999258,
          1.5730630602218345,
          0.6689109110829956,
          0.9724450240158201,
          0.8431921298748198,
          0.7581703575934119,
          0.9729531770696711,
          0.7581502106129043,
          1.9678339528053774,
          0.9745299695699986,
          1.6717582019544726,
          0.1349359595985884,
          1.465571415411992,
          0.6520813248411693,
          1.648301455932775,
          0.8852984626039566,
          1.4658941211140077,
          1.6822970615721156,
          0.7495514528285668,
          0.9029844707290773,
          1.4658745743862154,
          0.9740565516297381,
          1.0811756139316795,
          1.2975774798158537,
          0.7580752238035409,
          1.572996066120833,
          1.045112357704559,
          1.0811474316092522,
          0.9657481627159996,
          2.361770350079225,
          1.1683871406393904,
          0.9631252844857323,
          1.0872643060167497,
          1.6822824818196374,
          0.9745597322314732,
          1.682294324358637,
          1.4658962021485362,
          0.9472401653572914,
          1.0811870968487576,
          0.9745295983986197,
          1.384620372548804,
          1.9656363167155693,
          1.2973831464005536,
          1.2975852256208926,
          1.8359754760229015,
          0.9620950127486625,
          1.2976776814201472,
          0.9744643722808561,
          0.9745447961554834,
          0.6521029630840561,
          0.9745686404398478,
          1.2974906996708029,
          0.9695497211823546,
          0.874735077425153,
          1.2972558086804034,
          0.9745787391128345,
          0.9745035483724475,
          1.2975569483339422,
          0.9745200813446041,
          1.573096755291163,
          1.0389928583689243,
          0.8684801095198,
          1.8360941783954146,
          0.7565851030760686,
          0.9745009106135988,
          0.5255398976882127,
          3.029673163127803,
          1.809332138871912,
          1.836493317477422,
          1.8365292206406305,
          0.6519540912799878,
          1.573098867702652,
          1.7937414429332612,
          0.8396252934979823,
          0.9744428593066115,
          0.758169521611372
         ],
         "z": [
          -0.48161425707858496,
          -0.4820758718751622,
          -0.5947719339049884,
          -0.4606904287709165,
          -0.2191018416292859,
          -0.31107486922772537,
          -0.08346994310323057,
          -0.589290719925511,
          -0.48162311872712515,
          -0.4818532468337387,
          -0.48166054230329586,
          -0.48161433392604186,
          -0.4816147695881761,
          -0.2523374138035251,
          -0.3013501441040791,
          -0.18793187819312185,
          -0.23666239121727176,
          -0.48166243621680965,
          -0.23370786720908057,
          -0.4606936707027357,
          -0.5675502173168784,
          -0.26201533515637837,
          -0.31197312290833973,
          -0.2540145150350497,
          -0.5455489350641776,
          -0.5455297794670938,
          -0.25439692555848736,
          -0.4817491255239743,
          -0.48165400127565244,
          -0.4926401577719149,
          -0.2330956294133635,
          -0.4606843550025443,
          0.04479913670717022,
          -0.2908641117707475,
          -0.46068611004803184,
          -0.48222231701584783,
          -0.4816453218147852,
          -0.23403133793801134,
          -0.46068763811203933,
          0.04480388320773609,
          -0.5455365259018877,
          -0.4817916253095845,
          -0.10705697594783549,
          -0.1319297873924369,
          -0.3110946971098428,
          -0.3013683749447042,
          -0.25401668471465544,
          -0.5455263001563271,
          -0.2541330003846402,
          -0.48161480912849497,
          -0.5455279652661741,
          -0.23308000353321015,
          -0.4816210558692467,
          -0.46068492375854025,
          -0.45812335169695867,
          -0.6385305914104357,
          -0.3993596720991377,
          -0.25405624216534,
          -0.5455388309432481,
          -0.311209609688716,
          -0.5892468051202578,
          -0.4207179282834838,
          -0.31107576468348574,
          -0.4680515230568249,
          -0.31107491391369396,
          -0.489531759033961,
          -0.4816227532981843,
          -0.25404858795610225,
          -0.4607350044154802,
          -0.2799607859495486,
          -0.31107822147591485,
          -0.23349373930395603,
          -0.1879396983609587,
          -0.460744090066124,
          -0.311099263866367,
          -0.3111418704259204,
          -0.4857868710189702,
          -0.4607104442706249,
          -0.08643713971177922,
          -0.48216348490537414,
          -0.4816213551573062,
          -0.481664038888136,
          -0.3179425043319635,
          -0.23340362434147058,
          -0.4606962935549382,
          -0.48164144574495593,
          -0.31107448671257304,
          -0.4606849669048566,
          -0.4816177840225197,
          -0.48161498667083413,
          -0.2540702482019385,
          -0.22110336570969535,
          -0.5949597273625028,
          -0.18796659326450643,
          -0.4816268654030455,
          -0.46096646415147907,
          -0.18799054428065667,
          -0.3179175268798401,
          -0.6383616899402879,
          -0.18797307775937272,
          -0.5864827097711618,
          0.009417209885632645,
          -0.46069490459364476,
          -0.5803022444822918,
          -0.4606862726947577,
          -0.18795463291009618,
          -0.4816253752485485,
          -0.48162029008634405,
          -0.1879396983609587,
          -0.4606939396874882,
          -0.31107881105753993,
          -0.4816258874015629,
          -0.31932891725024115,
          -0.48162183244757106,
          -0.48169755228818173,
          -0.4606852693823398,
          -0.48163493395012114,
          -0.2706812582743938,
          -0.4816171454818811,
          -0.4816159077181358,
          -0.21794052170469289,
          -0.3162859578563693,
          -0.4816841244566724,
          -0.31107521285064516,
          -0.46068762133772506,
          -0.4816211374875417,
          -0.4816170424188755,
          -0.25401425347556433,
          -0.23622371545745247,
          -0.3179235130092888,
          -0.4821120753622624,
          -0.2540242092204979,
          -0.46070147584279364,
          -0.40875912755931315,
          -0.4607393515473221,
          -0.1879849645076995,
          -0.4607046195921415,
          -0.18812940392093414,
          -0.4607909678899107,
          -0.48161885804643484,
          -0.4816181697900282,
          -0.48173615264173925,
          -0.09262979117311848,
          -0.4606956810811088,
          -0.2543608790214814,
          -0.1879376772074563,
          -0.48163506960948865,
          -0.6154844886082259,
          -0.08349215209417614,
          -0.0864683302971476,
          -0.6511941047899632,
          -0.4857473167225745,
          -0.48578280884167346,
          -0.5913436713015836,
          -0.5455357293795896,
          -0.4911015294864954,
          -0.5455346222735211,
          -0.11085239844700606,
          -0.591358914108667,
          -0.46069023897969735,
          -0.2540155982301305,
          6.499882346407064,
          -0.1879387436174771,
          -0.4816274787389548,
          -0.4816163478945567,
          -0.2176530165639192,
          -0.21305742140843675,
          -0.46069037200909585,
          -0.25451263069442115,
          -0.4816166009654494,
          -0.11369798797333555,
          -0.5028830750594365,
          -0.31111849895788624,
          -0.48610141364759707,
          -0.5175922330458044,
          -0.4816176214366013,
          -0.445578429417727,
          -0.18436576868415563,
          -0.48162221103169456,
          -0.08794427492191431,
          -0.46071624722542526,
          0.009303911565276313,
          -0.5000769830257273,
          -0.5456186667006739,
          -0.48168155527573714,
          -0.25814508969009003,
          -0.21794355164056403,
          -0.4895469016685858,
          -0.48163567981491806,
          -0.4607074303233073,
          -0.21795961285136478,
          -0.48194608385781523,
          -0.4816156858520506,
          -0.23308077118842987,
          -0.08642928106375214,
          0.05553022129043557,
          -0.298260766703422,
          -0.48173082141557294,
          -0.31810026620266163,
          5.758414723855035,
          -3.802214738116262,
          -0.39551410923182656,
          -0.460688212469504,
          -0.5910137676861468,
          -0.2540311692259173,
          -0.196622219661527,
          -0.485755801882703,
          -0.4816149402337577,
          -0.481615310215991,
          -0.2541678476356556,
          -0.20636480455435458,
          -0.18794868027744618,
          -0.481621624446951,
          0.00009687639787009746,
          -0.44561943604069565,
          -0.18794364411957126,
          -0.08354330339731514,
          -0.4827657558605584,
          -0.5296881587179797,
          -0.2540241827787685,
          -0.4866920037644433,
          -0.25401468519136905,
          -0.5851868320243593,
          -0.4816326042344899,
          -0.3616530626349751,
          -0.353667568086652,
          -0.2180148717542539,
          -0.08349785619004409,
          -0.0657969661823797,
          -0.3111679006865365,
          -0.2179399598662427,
          -0.44554539026626316,
          -0.2560612753310084,
          -0.34130524124335593,
          -0.21797175457213028,
          -0.4817379970147008,
          -0.2330904990997702,
          -0.4607020131666546,
          -0.25407863544431436,
          -0.18795880861059033,
          -0.34740732015004105,
          -0.23309042271149538,
          -0.4842036527254295,
          -0.27147650836792475,
          -0.36340714901030374,
          -0.6825697237107425,
          -0.23954939548218876,
          -0.4455623904670208,
          -0.48162237091134846,
          -0.44555172345884003,
          -0.21793709513590362,
          -0.5023118619086019,
          -0.23307922452090113,
          -0.4816322082607518,
          -0.5911419840846093,
          -0.5861078287701844,
          -0.4607412713165746,
          -0.46069694805889894,
          0.008975300991901296,
          -0.4916356190673964,
          -0.4607755891730861,
          -0.4816399289236432,
          -0.48162859949125236,
          -0.08346811801817074,
          -0.4816178794557798,
          -0.4609093255027701,
          -0.4832610501811889,
          -0.3178421552440865,
          -0.4609919512072151,
          -0.4816386493171621,
          -0.48181500785247783,
          -0.4607854048975482,
          -0.48167270356651193,
          -0.18793227457432596,
          -0.28273843935085596,
          -0.31111257267044823,
          0.009408518164137899,
          -0.25898581076995003,
          -0.4817455513245621,
          -0.25440299971772296,
          6.720050392115809,
          -0.5455241465480787,
          0.009089281504062342,
          0.009050979225020107,
          -0.08396172848899655,
          -0.18793428432277767,
          -0.24965073978177926,
          -0.00919850531637038,
          -0.48165029966720035,
          -0.2540066303075765
         ]
        },
        {
         "customdata": [
          [
           "SHA-256"
          ],
          [
           "Ethash"
          ],
          [
           "Scrypt"
          ],
          [
           "CryptoNight-V7"
          ],
          [
           "Ethash"
          ],
          [
           "Equihash"
          ],
          [
           "Multiple"
          ],
          [
           "Scrypt"
          ],
          [
           "X11"
          ],
          [
           "Scrypt"
          ],
          [
           "Multiple"
          ],
          [
           "Scrypt"
          ],
          [
           "SHA-256"
          ],
          [
           "Scrypt"
          ],
          [
           "Scrypt"
          ],
          [
           "Quark"
          ],
          [
           "Groestl"
          ],
          [
           "Scrypt"
          ],
          [
           "Scrypt"
          ],
          [
           "Scrypt"
          ],
          [
           "X11"
          ],
          [
           "Multiple"
          ],
          [
           "SHA-256"
          ],
          [
           "Scrypt"
          ],
          [
           "Scrypt"
          ],
          [
           "Scrypt"
          ],
          [
           "Scrypt"
          ],
          [
           "Scrypt"
          ],
          [
           "NeoScrypt"
          ],
          [
           "Scrypt"
          ],
          [
           "Scrypt"
          ],
          [
           "Scrypt"
          ],
          [
           "Scrypt"
          ],
          [
           "SHA-256"
          ],
          [
           "Scrypt"
          ],
          [
           "Scrypt"
          ],
          [
           "Scrypt"
          ],
          [
           "Scrypt"
          ],
          [
           "HybridScryptHash256"
          ],
          [
           "Scrypt"
          ],
          [
           "Scrypt"
          ],
          [
           "SHA-256"
          ],
          [
           "Scrypt"
          ],
          [
           "Scrypt"
          ],
          [
           "Scrypt"
          ],
          [
           "Scrypt"
          ],
          [
           "SHA-256"
          ],
          [
           "SHA-256"
          ],
          [
           "SHA-256"
          ],
          [
           "SHA-256"
          ],
          [
           "SHA-256"
          ],
          [
           "X11"
          ],
          [
           "Scrypt"
          ],
          [
           "Lyra2REv2"
          ],
          [
           "Scrypt"
          ],
          [
           "SHA-256"
          ],
          [
           "CryptoNight"
          ],
          [
           "CryptoNight"
          ],
          [
           "Scrypt"
          ],
          [
           "Scrypt"
          ],
          [
           "Scrypt"
          ],
          [
           "Scrypt"
          ],
          [
           "Scrypt"
          ],
          [
           "Scrypt"
          ],
          [
           "Stanford Folding"
          ],
          [
           "Multiple"
          ],
          [
           "QuBit"
          ],
          [
           "Scrypt"
          ],
          [
           "Scrypt"
          ],
          [
           "M7 POW"
          ],
          [
           "Scrypt"
          ],
          [
           "SHA-256"
          ],
          [
           "Scrypt"
          ],
          [
           "X11"
          ],
          [
           "Lyra2RE"
          ],
          [
           "SHA-256"
          ],
          [
           "X11"
          ],
          [
           "Scrypt"
          ],
          [
           "Scrypt"
          ],
          [
           "Ethash"
          ],
          [
           "Blake2b"
          ],
          [
           "X11"
          ],
          [
           "SHA-256"
          ],
          [
           "Scrypt"
          ],
          [
           "1GB AES Pattern Search"
          ],
          [
           "Scrypt"
          ],
          [
           "SHA-256"
          ],
          [
           "X11"
          ],
          [
           "Dagger"
          ],
          [
           "Scrypt"
          ],
          [
           "X11GOST"
          ],
          [
           "Scrypt"
          ],
          [
           "X11"
          ],
          [
           "Scrypt"
          ],
          [
           "X11"
          ],
          [
           "Equihash"
          ],
          [
           "CryptoNight"
          ],
          [
           "SHA-256"
          ],
          [
           "Multiple"
          ],
          [
           "Scrypt"
          ],
          [
           "SHA-256"
          ],
          [
           "Scrypt"
          ],
          [
           "Lyra2Z"
          ],
          [
           "Ethash"
          ],
          [
           "Equihash"
          ],
          [
           "Scrypt"
          ],
          [
           "X11"
          ],
          [
           "X11"
          ],
          [
           "CryptoNight"
          ],
          [
           "Scrypt"
          ],
          [
           "CryptoNight"
          ],
          [
           "Lyra2RE"
          ],
          [
           "X11"
          ],
          [
           "CryptoNight-V7"
          ],
          [
           "Scrypt"
          ],
          [
           "X11"
          ],
          [
           "Equihash"
          ],
          [
           "Scrypt"
          ],
          [
           "Lyra2RE"
          ],
          [
           "Dagger-Hashimoto"
          ],
          [
           "Scrypt"
          ],
          [
           "NIST5"
          ],
          [
           "Scrypt"
          ],
          [
           "SHA-256"
          ],
          [
           "Scrypt"
          ],
          [
           "CryptoNight-V7"
          ],
          [
           "Argon2d"
          ],
          [
           "Blake2b"
          ],
          [
           "Cloverhash"
          ],
          [
           "CryptoNight"
          ],
          [
           "X11"
          ],
          [
           "Scrypt"
          ],
          [
           "Scrypt"
          ],
          [
           "X11"
          ],
          [
           "X11"
          ],
          [
           "CryptoNight"
          ],
          [
           "Time Travel"
          ],
          [
           "Scrypt"
          ],
          [
           "Keccak"
          ],
          [
           "X11"
          ],
          [
           "SHA-256"
          ],
          [
           "Scrypt"
          ],
          [
           "Scrypt"
          ],
          [
           "Scrypt"
          ],
          [
           "Scrypt"
          ],
          [
           "Scrypt"
          ],
          [
           "Scrypt"
          ],
          [
           "CryptoNight"
          ],
          [
           "Equihash"
          ],
          [
           "X11"
          ],
          [
           "NeoScrypt"
          ],
          [
           "Equihash"
          ],
          [
           "Dagger"
          ],
          [
           "Scrypt"
          ],
          [
           "X11"
          ],
          [
           "NeoScrypt"
          ],
          [
           "Ethash"
          ],
          [
           "NeoScrypt"
          ],
          [
           "Multiple"
          ],
          [
           "CryptoNight"
          ],
          [
           "CryptoNight"
          ],
          [
           "Ethash"
          ],
          [
           "X11"
          ],
          [
           "CryptoNight-V7"
          ],
          [
           "Scrypt"
          ],
          [
           "BLAKE256"
          ],
          [
           "X11"
          ],
          [
           "NeoScrypt"
          ],
          [
           "NeoScrypt"
          ],
          [
           "Scrypt"
          ],
          [
           "X11"
          ],
          [
           "SHA-256"
          ],
          [
           "C11"
          ],
          [
           "CryptoNight"
          ],
          [
           "SkunkHash"
          ],
          [
           "CryptoNight"
          ],
          [
           "Scrypt"
          ],
          [
           "Dagger"
          ],
          [
           "Lyra2REv2"
          ],
          [
           "Scrypt"
          ],
          [
           "Scrypt"
          ],
          [
           "X11"
          ],
          [
           "Ethash"
          ],
          [
           "CryptoNight"
          ],
          [
           "Scrypt"
          ],
          [
           "IMesh"
          ],
          [
           "Equihash"
          ],
          [
           "Lyra2Z"
          ],
          [
           "X11"
          ],
          [
           "CryptoNight"
          ],
          [
           "NIST5"
          ],
          [
           "Lyra2RE"
          ],
          [
           "Tribus"
          ],
          [
           "Lyra2Z"
          ],
          [
           "CryptoNight"
          ],
          [
           "CryptoNight Heavy"
          ],
          [
           "CryptoNight"
          ],
          [
           "Jump Consistent Hash"
          ],
          [
           "CryptoNight"
          ],
          [
           "X16R"
          ],
          [
           "HMQ1725"
          ],
          [
           "X11"
          ],
          [
           "Scrypt"
          ],
          [
           "CryptoNight-V7"
          ],
          [
           "Cryptonight-GPU"
          ],
          [
           "XEVAN"
          ],
          [
           "CryptoNight Heavy"
          ],
          [
           "SHA-256"
          ],
          [
           "X11"
          ],
          [
           "X16R"
          ],
          [
           "Equihash"
          ],
          [
           "Lyra2Z"
          ],
          [
           "SHA-256"
          ],
          [
           "CryptoNight"
          ],
          [
           "Blake"
          ],
          [
           "Blake"
          ],
          [
           "Equihash"
          ],
          [
           "Exosis"
          ],
          [
           "Scrypt"
          ],
          [
           "Equihash"
          ],
          [
           "Equihash"
          ],
          [
           "QuBit"
          ],
          [
           "SHA-256"
          ],
          [
           "X13"
          ],
          [
           "SHA-256"
          ],
          [
           "Scrypt"
          ],
          [
           "NeoScrypt"
          ],
          [
           "Blake"
          ],
          [
           "Scrypt"
          ],
          [
           "SHA-256"
          ],
          [
           "Scrypt"
          ],
          [
           "Groestl"
          ],
          [
           "Scrypt"
          ],
          [
           "Scrypt"
          ],
          [
           "Multiple"
          ],
          [
           "Equihash+Scrypt"
          ],
          [
           "Ethash"
          ],
          [
           "CryptoNight"
          ],
          [
           "Equihash"
          ]
         ],
         "hovertemplate": "<b>%{hovertext}</b><br><br>Class=%{marker.color}<br>PC 1=%{x}<br>PC 2=%{y}<br>PC 3=%{z}<br>Algorithm=%{customdata[0]}<extra></extra>",
         "hovertext": [
          "Bitcoin",
          "Ethereum",
          "Litecoin",
          "Monero",
          "Ethereum Classic",
          "ZCash",
          "DigiByte",
          "ProsperCoin",
          "Spreadcoin",
          "Argentum",
          "MyriadCoin",
          "MoonCoin",
          "ZetaCoin",
          "SexCoin",
          "Quatloo",
          "QuarkCoin",
          "Riecoin",
          "Digitalcoin ",
          "Catcoin",
          "CannaCoin",
          "CryptCoin",
          "Verge",
          "DevCoin",
          "EarthCoin",
          "E-Gulden",
          "Einsteinium",
          "Emerald",
          "Franko",
          "FeatherCoin",
          "GrandCoin",
          "GlobalCoin",
          "GoldCoin",
          "Infinite Coin",
          "IXcoin",
          "KrugerCoin",
          "LuckyCoin",
          "Litebar ",
          "MegaCoin",
          "MediterraneanCoin",
          "MinCoin",
          "NobleCoin",
          "Namecoin",
          "NyanCoin",
          "RonPaulCoin",
          "StableCoin",
          "SmartCoin",
          "SysCoin",
          "TigerCoin",
          "TerraCoin",
          "UnbreakableCoin",
          "Unobtanium",
          "UroCoin",
          "ViaCoin",
          "Vertcoin",
          "WorldCoin",
          "JouleCoin",
          "ByteCoin",
          "DigitalNote ",
          "MonaCoin",
          "Gulden",
          "PesetaCoin",
          "Wild Beast Coin",
          "Flo",
          "ArtByte",
          "Folding Coin",
          "Unitus",
          "CypherPunkCoin",
          "OmniCron",
          "GreenCoin",
          "Cryptonite",
          "MasterCoin",
          "SoonCoin",
          "1Credit",
          "MarsCoin ",
          "Crypto",
          "Anarchists Prime",
          "BowsCoin",
          "Song Coin",
          "BitZeny",
          "Expanse",
          "Siacoin",
          "MindCoin",
          "I0coin",
          "Revolution VR",
          "HOdlcoin",
          "Gamecredits",
          "CarpeDiemCoin",
          "Adzcoin",
          "SoilCoin",
          "YoCoin",
          "SibCoin",
          "Francs",
          "BolivarCoin",
          "Omni",
          "PizzaCoin",
          "Komodo",
          "Karbo",
          "ZayedCoin",
          "Circuits of Value",
          "DopeCoin",
          "DollarCoin",
          "Shilling",
          "ZCoin",
          "Elementrem",
          "ZClassic",
          "KiloCoin",
          "ArtexCoin",
          "Kurrent",
          "Cannabis Industry Coin",
          "OsmiumCoin",
          "Bikercoins",
          "HexxCoin",
          "PacCoin",
          "Citadel",
          "BeaverCoin",
          "VaultCoin",
          "Zero",
          "Canada eCoin",
          "Zoin",
          "DubaiCoin",
          "EB3coin",
          "Coinonat",
          "BenjiRolls",
          "ILCoin",
          "EquiTrader",
          "Quantum Resistant Ledger",
          "Dynamic",
          "Nano",
          "ChanCoin",
          "Dinastycoin",
          "DigitalPrice",
          "Unify",
          "SocialCoin",
          "ArcticCoin",
          "DAS",
          "LeviarCoin",
          "Bitcore",
          "gCn Coin",
          "SmartCash",
          "Onix",
          "Bitcoin Cash",
          "Sojourn Coin",
          "NewYorkCoin",
          "FrazCoin",
          "Kronecoin",
          "AdCoin",
          "Linx",
          "Sumokoin",
          "BitcoinZ",
          "Elements",
          "VIVO Coin",
          "Bitcoin Gold",
          "Pirl",
          "eBoost",
          "Pura",
          "Innova",
          "Ellaism",
          "GoByte",
          "SHIELD",
          "UltraNote",
          "BitCoal",
          "DaxxCoin",
          "AC3",
          "Lethean",
          "PopularCoin",
          "Photon",
          "Sucre",
          "SparksPay",
          "GunCoin",
          "IrishCoin",
          "Pioneer Coin",
          "UnitedBitcoin",
          "Interzone",
          "TurtleCoin",
          "MUNcoin",
          "Niobio Cash",
          "ShareChain",
          "Travelflex",
          "KREDS",
          "BitFlip",
          "LottoCoin",
          "Crypto Improvement Fund",
          "Callisto Network",
          "BitTube",
          "Poseidon",
          "Aidos Kuneen",
          "Bitrolium",
          "Alpenschillling",
          "FuturoCoin",
          "Monero Classic",
          "Jumpcoin",
          "Infinex",
          "KEYCO",
          "GINcoin",
          "PlatinCoin",
          "Loki",
          "Newton Coin",
          "MassGrid",
          "PluraCoin",
          "Motion",
          "PlusOneCoin",
          "Axe",
          "HexCoin",
          "Webchain",
          "Ryo",
          "Urals Coin",
          "Qwertycoin",
          "Project Pai",
          "Azart",
          "Xchange",
          "CrypticCoin",
          "Actinium",
          "Bitcoin SV",
          "FREDEnergy",
          "Universal Molecule",
          "Lithium",
          "PirateCash",
          "Exosis",
          "Block-Logic",
          "Beam",
          "Bithereum",
          "SLICE",
          "BLAST",
          "Bitcoin Rhodium",
          "GlobalToken",
          "SolarCoin",
          "UFO Coin",
          "BlakeCoin",
          "Crypto Escudo",
          "Crown Coin",
          "SmileyCoin",
          "Groestlcoin",
          "Bata",
          "Pakcoin",
          "JoinCoin",
          "Vollar",
          "Reality Clash",
          "Beldex",
          "Horizen"
         ],
         "legendgroup": "3",
         "marker": {
          "color": [
           3,
           3,
           3,
           3,
           3,
           3,
           3,
           3,
           3,
           3,
           3,
           3,
           3,
           3,
           3,
           3,
           3,
           3,
           3,
           3,
           3,
           3,
           3,
           3,
           3,
           3,
           3,
           3,
           3,
           3,
           3,
           3,
           3,
           3,
           3,
           3,
           3,
           3,
           3,
           3,
           3,
           3,
           3,
           3,
           3,
           3,
           3,
           3,
           3,
           3,
           3,
           3,
           3,
           3,
           3,
           3,
           3,
           3,
           3,
           3,
           3,
           3,
           3,
           3,
           3,
           3,
           3,
           3,
           3,
           3,
           3,
           3,
           3,
           3,
           3,
           3,
           3,
           3,
           3,
           3,
           3,
           3,
           3,
           3,
           3,
           3,
           3,
           3,
           3,
           3,
           3,
           3,
           3,
           3,
           3,
           3,
           3,
           3,
           3,
           3,
           3,
           3,
           3,
           3,
           3,
           3,
           3,
           3,
           3,
           3,
           3,
           3,
           3,
           3,
           3,
           3,
           3,
           3,
           3,
           3,
           3,
           3,
           3,
           3,
           3,
           3,
           3,
           3,
           3,
           3,
           3,
           3,
           3,
           3,
           3,
           3,
           3,
           3,
           3,
           3,
           3,
           3,
           3,
           3,
           3,
           3,
           3,
           3,
           3,
           3,
           3,
           3,
           3,
           3,
           3,
           3,
           3,
           3,
           3,
           3,
           3,
           3,
           3,
           3,
           3,
           3,
           3,
           3,
           3,
           3,
           3,
           3,
           3,
           3,
           3,
           3,
           3,
           3,
           3,
           3,
           3,
           3,
           3,
           3,
           3,
           3,
           3,
           3,
           3,
           3,
           3,
           3,
           3,
           3,
           3,
           3,
           3,
           3,
           3,
           3,
           3,
           3,
           3,
           3,
           3,
           3,
           3,
           3,
           3,
           3,
           3,
           3,
           3,
           3,
           3,
           3,
           3,
           3,
           3,
           3,
           3,
           3,
           3,
           3,
           3,
           3,
           3,
           3,
           3,
           3,
           3,
           3,
           3,
           3,
           3,
           3,
           3,
           3,
           3
          ],
          "coloraxis": "coloraxis",
          "symbol": "diamond"
         },
         "mode": "markers",
         "name": "3",
         "scene": "scene",
         "showlegend": true,
         "type": "scatter3d",
         "x": [
          -0.14503505539930064,
          -0.14488115906923568,
          -0.16181601164680515,
          -0.1563484702762091,
          -0.14332142087553834,
          -0.15304759079077895,
          0.16720195343041155,
          -0.16296405250268886,
          -0.2162795328810662,
          -0.16258011055412436,
          -0.0865738780121827,
          2.5618888487998652,
          -0.14211534791542632,
          -0.15983139183997722,
          -0.16238397135151367,
          -0.2340445152947669,
          -0.20884944802159808,
          -0.16243254791071574,
          -0.162946285300262,
          -0.16303285926164748,
          -0.21636903156288853,
          0.19102018466479168,
          0.2334036012153809,
          0.08608896901733314,
          -0.16277872229229962,
          -0.15837734175772047,
          -0.16271796298737445,
          -0.16308995851374092,
          -0.18271806331633614,
          -0.14228114328313032,
          -0.1618831312168171,
          -0.16216111099989824,
          1.5885956902872158,
          -0.14499635246446835,
          -0.15944649024613491,
          -0.16280520791013603,
          -0.16316058345414514,
          -0.1624186699824259,
          -0.12223889775152277,
          -0.16304167514627052,
          -0.02777643556588048,
          -0.14507410839161736,
          -0.15669552396086428,
          -0.16302113866978185,
          -0.16111316654049573,
          -0.16250708668349642,
          -0.13220689981866524,
          -0.14453701534299657,
          -0.14482473065661944,
          -0.14480789315746642,
          -0.14539926649768636,
          -0.21654315248773265,
          -0.16273710801675548,
          -0.18604015421956283,
          -0.15983619962900808,
          -0.1446044250942519,
          3.859285293937117,
          0.4528444858734375,
          -0.1616030335581625,
          -0.14618176343615596,
          -0.1603197889700616,
          -0.16316280394869861,
          -0.16018454032650387,
          -0.1463870012916225,
          -0.12050239679191618,
          -0.12063314424645916,
          -0.18885287466141662,
          -0.163035647907441,
          -0.035790705531658404,
          -0.1154263676023557,
          -0.16317170207945503,
          -0.14510193796683682,
          0.48969935925671354,
          -0.21592937231650525,
          -0.14745972921985917,
          -0.14484149345666,
          -0.2162147388043972,
          -0.16129312512321847,
          -0.16048407261137265,
          -0.14595071100598328,
          0.36331381988816863,
          -0.21625017430633606,
          -0.1449974769191047,
          -0.1591231439924346,
          -0.12702217206608138,
          -0.16173282258067312,
          0.27415131853447466,
          -0.21540969878861316,
          -0.14172443968966783,
          -0.1619811781053252,
          -0.11398483217467208,
          -0.1629613270009844,
          -0.21621339858347607,
          -0.16317176066719222,
          -0.21636365079396042,
          -0.2864177803920567,
          0.29751366185932243,
          -0.14525798721429556,
          -0.1006748928553493,
          -0.1603342627069949,
          -0.14521654431846714,
          -0.16283469223279498,
          -0.16123850835027526,
          -0.14569243595845352,
          -0.15306924838618627,
          -0.08981569145970235,
          -0.20292443833118773,
          -0.21418885231093635,
          0.29750795424203214,
          -0.16315347589694865,
          0.2976388931785283,
          -0.14800087827053407,
          0.49966868322156677,
          -0.1551118832577726,
          -0.16312170713757543,
          -0.2090894870567799,
          -0.15308162422495408,
          -0.16125200812804316,
          -0.14771879118870723,
          -0.13234912455834064,
          -0.13401301445101374,
          -0.20235192048281544,
          -0.16268344203949472,
          -0.11153377732114722,
          -0.16250537561430264,
          -0.15496890841525107,
          -0.16814741255820506,
          -0.037741911426272076,
          -0.14914334931049858,
          0.33368673158506656,
          -0.21541819686883298,
          -0.16282494318669383,
          -0.162588189332793,
          -0.21581339513566264,
          -0.21639170210286213,
          0.2979034994856356,
          -0.18022221252589204,
          3.2518123300177524,
          -0.11557866161069077,
          -0.20725271037486453,
          -0.14503421804891353,
          -0.08866403959863256,
          1.5871241210711573,
          -0.16292297826854985,
          -0.16237394818036818,
          -0.16207445136534085,
          -0.16206135777727707,
          0.2980872599670117,
          0.05952641414027128,
          -0.1707029718344567,
          -0.18741387918316704,
          -0.1529274089426583,
          -0.140481909516526,
          -0.16125021392373873,
          -0.21192961196218404,
          -0.18725910113055264,
          -0.14405598168262793,
          -0.18735942087693327,
          -0.11085030389145521,
          1.1365499555140377,
          0.2974907388204521,
          -0.06885833928550228,
          -0.2116718128242834,
          -0.14406552406146927,
          -0.07918174292918209,
          1.105970362129279,
          -0.21636565693690296,
          -0.1874113999120194,
          -0.18043887280701265,
          -0.16217281880190432,
          -0.21629094224591788,
          -0.14501357216724117,
          -0.20118932567246656,
          8.044286710927462,
          -0.16165471016397095,
          0.3013706389705711,
          0.030175188504459757,
          -0.13998388016995308,
          -0.1715767597710317,
          -0.16274748641701395,
          0.14480275244380916,
          -0.21042351320055586,
          -0.09704099957642312,
          0.3054232462759041,
          -0.16298483610614473,
          -0.15489319900485243,
          -0.15191687972838663,
          -0.159019412455066,
          -0.21545904584793857,
          0.29767356728276506,
          -0.20241134182616194,
          -0.1478459169670027,
          -0.11058932555348563,
          -0.1613229825177305,
          0.30160591626281646,
          0.5578179781597781,
          2.1085287035176052,
          -0.203186011442773,
          0.3112985825739711,
          -0.19899733830345373,
          -0.1753509837740352,
          -0.21634779034659113,
          -0.1630094702592999,
          -0.14394935924242439,
          -0.1587692608084183,
          -0.135719518387199,
          3.0840831130477024,
          -0.10479813722645001,
          -0.21631912449714713,
          -0.19842442086629525,
          -0.04751826897640988,
          -0.16072001393505364,
          -0.14503425568489567,
          0.37753854930922515,
          -0.14627801769605253,
          -0.14667033270339752,
          -0.273114513105697,
          -0.1398219878573074,
          -0.1619002332854729,
          -0.15098521861949932,
          -0.15275996899437796,
          -0.18806292407567732,
          -0.1443092786604759,
          -0.11925347386830344,
          -0.14317567160732875,
          0.5336672722159589,
          -0.11245866747577707,
          -0.09708165036208212,
          -0.1465378701753408,
          -0.14482409992546813,
          0.5537320891017832,
          -0.20840974086800163,
          -0.16308635755164075,
          -0.16103921739252647,
          -0.12136942523274467,
          -0.13578327936664036,
          -0.14572564717989617,
          0.31928097637739183,
          -0.15304864972350796
         ],
         "y": [
          -1.2775662290971934,
          -1.9971129132920904,
          -1.1715246426044894,
          -2.175063894516582,
          -1.997218138057334,
          -2.1039904176217283,
          -1.8194247868515678,
          -1.171512665917591,
          -0.8484833417218738,
          -1.1715323520981136,
          -1.8131495100868062,
          -1.367573774185346,
          -1.2775885181687985,
          -1.171586168128024,
          -1.1715524428166502,
          -0.46380622745433536,
          -1.1818301056909304,
          -1.1715167800558213,
          -1.171512154135848,
          -1.1715090278816216,
          -0.8484844896920051,
          -1.815560471765085,
          -1.2816656222947558,
          -1.173976393874417,
          -1.1715073275071983,
          -1.1715798866938276,
          -1.171513442490842,
          -1.1715093110983534,
          -1.620596991714062,
          -1.1719176372061741,
          -1.171516565787344,
          -1.1715261786609903,
          -1.185824430017698,
          -1.2775651142646458,
          -1.1715861071700593,
          -1.1715073754083143,
          -1.171504276951513,
          -1.1715119715317828,
          -2.0384468666011695,
          -1.1715070366800233,
          -1.1783287907016544,
          -1.2775673540130856,
          -1.171558046060071,
          -1.171514310276528,
          -1.1716230894662585,
          -1.1715210964850749,
          -1.2778166324673257,
          -1.2775704820283351,
          -1.2775751860030842,
          -1.2776018715084172,
          -1.2775618836192515,
          -0.8484766349803118,
          -1.17150755884059,
          -1.2430874940613286,
          -1.1715973326934932,
          -1.2775709851726784,
          -2.3362652263676824,
          -2.3096407217493926,
          -1.171533608882733,
          -1.1722154616033107,
          -1.1715404512121836,
          -1.1715052546995985,
          -1.1715319893189913,
          -1.171735164376072,
          -2.081854076753509,
          -1.8127005557244338,
          -1.538124382327946,
          -1.171502123483761,
          -1.1749845738855547,
          -2.3234901515461304,
          -1.1715040748889576,
          -1.2775681556400478,
          -1.2184790014704567,
          -0.8484825505700188,
          -2.1823471521736213,
          -1.2775840774100944,
          -0.8484821903510412,
          -1.1715998442170863,
          -1.1716049685049623,
          -1.9971558098832196,
          -2.2125430656958223,
          -0.8484796359989183,
          -1.2775651466544018,
          -1.1715371666155532,
          -2.0656334251040604,
          -1.1715222463552524,
          -1.2809396886412687,
          -0.8485040471284315,
          -2.067248061614545,
          -1.1715897125060313,
          -2.0359395057034484,
          -1.171511872396557,
          -0.8484850117995474,
          -1.1715040744100784,
          -0.8484893397931345,
          -1.787044571936185,
          -2.306972020762446,
          -1.277564596706145,
          -1.812983677141085,
          -1.171564902584696,
          -1.2775640481045272,
          -1.1715153748334899,
          -2.2007628164374067,
          -1.9971550193177767,
          -2.103991041465688,
          -1.1765407559335592,
          -0.8484418565253585,
          -0.848571842740668,
          -2.3069800503163456,
          -1.1715050477020337,
          -2.306979138692252,
          -2.182322849943467,
          -0.8993475892446181,
          -2.175160552271919,
          -1.1715045943015585,
          -0.8489769465508925,
          -2.103988537896587,
          -1.1715198367767392,
          -2.182322589612641,
          -2.0953652406757692,
          -1.1735237734769113,
          -0.6310366946049892,
          -1.171514965252819,
          -1.2783737476213612,
          -1.1715359194755435,
          -2.1750992328342926,
          -2.265853004508702,
          -2.224338725519075,
          -2.143973449941003,
          -2.307352937181962,
          -0.8485157321279435,
          -1.1715074267825025,
          -1.1715404499529798,
          -0.8484985152241055,
          -0.8484857862257001,
          -2.3069922521321526,
          -2.24503222400787,
          -1.2161381708206058,
          -1.1025345511318227,
          -0.8489955397938843,
          -1.2775662049774281,
          -1.17686508943768,
          -1.1210866093134726,
          -1.1715107677667649,
          -1.1715407138871106,
          -1.1715435271374006,
          -1.1715431499784559,
          -2.307011904958089,
          -2.11286751855794,
          -0.8484432391067809,
          -1.6205113148997214,
          -2.103986955800658,
          -2.067302581708786,
          -1.171519785094939,
          -0.8485939972713146,
          -1.620519726780103,
          -1.9972893479112146,
          -1.6205131782999997,
          -1.8128906712048145,
          -2.343572683650231,
          -2.3069744685906866,
          -2.0020732202124534,
          -0.8487295740727322,
          -2.1754247286169766,
          -1.1726593798310416,
          -1.2226466193916863,
          -0.8484856795104035,
          -1.6205069534045986,
          -1.6206486021436513,
          -1.1715206201170272,
          -0.8484858154070429,
          -1.2775650139546095,
          -1.1487622878870827,
          -2.7988335178918184,
          -2.2300974512002436,
          -2.307094015434887,
          -1.1730844356751293,
          -2.067247975978885,
          -1.2433973315964721,
          -1.1715200130157994,
          -1.175793707748967,
          -0.8486578663120875,
          -2.0003824710330447,
          -2.3074520495179387,
          -1.1715132645863378,
          -2.1457047821744633,
          -2.1039928833040378,
          -2.2008980984131465,
          -0.8485169087769863,
          -2.306973420821527,
          -0.6310189206846715,
          -2.182330026723094,
          -2.036624064908898,
          -2.200757456058346,
          -2.30727600219932,
          -2.286596431360552,
          -2.3863612949804147,
          -2.233083491133815,
          -2.3072828112901815,
          -1.2607500355326628,
          -2.2466542387820154,
          -0.8484860228818206,
          -1.1715147644474155,
          -2.175958013237502,
          -2.127813957867516,
          -0.7613657131833055,
          -2.345618982613755,
          -1.2778937231269536,
          -0.8484880572194775,
          -1.2607892496416315,
          -2.1063697466331117,
          -2.2007926411147936,
          -1.2775662060615278,
          -2.3104370729363577,
          -2.237043307496585,
          -2.2369974847994927,
          -0.17435719588434348,
          -2.0840342120119226,
          -1.1715528090772473,
          -2.104103901510987,
          -2.1039892013386527,
          -1.538173129247986,
          -1.2775760687751176,
          -0.33673773107356214,
          -1.277617776772794,
          -1.22157409338499,
          -1.621192988689502,
          -2.240556144331856,
          -1.1717395101328434,
          -1.2775751678349625,
          -1.186603987294896,
          -1.1818324552690527,
          -1.1715047486836407,
          -1.1715723384640995,
          -1.8127237662310565,
          -2.080115564646331,
          -1.9971547478589489,
          -2.3073390440772634,
          -2.1039904481241343
         ],
         "z": [
          0.18263907578784394,
          0.3216028100143871,
          0.012071890928056493,
          0.40064017268643043,
          0.3215751168240646,
          0.4262435559732066,
          0.3041079186859017,
          0.012101098717524955,
          0.0330290990330215,
          0.012093444086146368,
          0.310075393046135,
          -0.034629866944687906,
          0.1825636931431573,
          0.012026901135812434,
          0.012090886000401225,
          0.04804986018368933,
          0.19234285379599014,
          0.01208738366605592,
          0.01210055273757852,
          0.012102455682474854,
          0.03303165656282482,
          0.30294764244232864,
          0.1730314660363276,
          0.005746713731004285,
          0.012095403584666377,
          0.011987017021180824,
          0.012094596506832393,
          0.01210402682226869,
          0.23920544932012358,
          0.01160039597245346,
          0.01207260435431733,
          0.012081362987149988,
          -0.03299491696075535,
          0.1826378864601291,
          0.012016559296474001,
          0.01209612111171478,
          0.012105244438248236,
          0.012086363004652519,
          0.33821008078137776,
          0.012102423999886154,
          0.00939030813495088,
          0.1826402758727065,
          0.01193892091626508,
          0.012102852955570224,
          0.01206628962622113,
          0.012089966593376215,
          0.18232842102053692,
          0.1826262778795745,
          0.1826346362838571,
          0.18263778081058865,
          0.18264826825767472,
          0.03303527263639919,
          0.012094317526001194,
          0.15239677367865317,
          0.012028534930166453,
          0.18262815547091243,
          0.2666422549559465,
          0.35450813178153207,
          0.012067381451683939,
          0.011745257285490487,
          0.01203385179860802,
          0.01210543583000375,
          0.012029080256679913,
          0.011686034770467259,
          0.34639045117652606,
          0.31092928890484833,
          0.177452693068076,
          0.012101600002099108,
          0.009154750016779024,
          0.321523065076193,
          0.012105515711689406,
          0.1826411310658665,
          0.0009086982833209114,
          0.03301959148874681,
          0.33604285201420836,
          0.1826362846720707,
          0.03302720430036689,
          0.01206798814809775,
          0.012046957788743335,
          0.3216373061879892,
          0.3766954478387228,
          0.033027811387162875,
          0.18263792101422877,
          0.012001282255214057,
          0.4139790932045937,
          0.012069334557010656,
          0.17183965544593785,
          0.03300853680733025,
          0.39567062434861855,
          0.012085095098077736,
          0.38854425943177257,
          0.012100918597037335,
          0.03302754858292029,
          0.012105517220078748,
          0.03303216578105122,
          0.697299670036423,
          0.35831868991678106,
          0.18264484092964056,
          0.31043161890906584,
          0.012037535844077588,
          0.1826436543554193,
          0.012097990822377235,
          0.37294514854361677,
          0.32163026561394287,
          0.42624422150357744,
          0.010814919030255455,
          0.032664957675012485,
          0.032984897434731375,
          0.3583199253443322,
          0.012105157497323384,
          0.3583162871034644,
          0.33605410512077544,
          0.02066300910681036,
          0.4006200006500161,
          0.012104243479776915,
          0.03290259086100022,
          0.42624421634171966,
          0.012056101164538098,
          0.33604649671748976,
          0.252269490185322,
          0.011594886768630894,
          0.007965870335007043,
          0.012093874939692958,
          0.1818484863932821,
          0.012091918441609839,
          0.4006078977413539,
          0.38650838575456625,
          0.3890525427816413,
          0.4314673919653027,
          0.35739887394482217,
          0.03301033981868067,
          0.012096657877447002,
          0.012094752378661358,
          0.03301862945310852,
          0.033032439950719514,
          0.35831095048004646,
          0.3684577614112957,
          -0.07356246087256779,
          0.14490765801180824,
          0.032855784029773884,
          0.18263905005635953,
          0.010827712553887212,
          -0.041680525417818595,
          0.012099740153837291,
          0.012089036123537383,
          0.012081374558958522,
          0.012080972197554765,
          0.3583086657138225,
          0.4217329092366008,
          0.03180008002429937,
          0.23931997277566663,
          0.42623986282684717,
          0.39564461360060416,
          0.012056046029264477,
          0.03292722851098377,
          0.23931695110182327,
          0.3216044352958201,
          0.23931876185136203,
          0.3106922676932898,
          0.34072560834322435,
          0.35831963525070915,
          0.3202303229126588,
          0.03293857978699646,
          0.40035903882880797,
          0.010006307648348884,
          0.050737879850414516,
          0.03303172632192704,
          0.23931931838791348,
          0.23915121473918155,
          0.012080928152363718,
          0.033029738739139086,
          0.18263833524571657,
          0.09820527634161322,
          0.21662885576540325,
          0.3775700400394247,
          0.35823158191930077,
          0.0071276410533281515,
          0.39562388323422815,
          0.15205022723867384,
          0.01209627468570082,
          0.00441532939488074,
          0.032895401635598585,
          0.3207590825627359,
          0.3581710342419528,
          0.012101737390425242,
          0.4104432904958501,
          0.4262135315874986,
          0.37290380428097125,
          0.03301159509359061,
          0.35831458555963497,
          0.007965070145018304,
          0.3360509120649491,
          0.35837796475358386,
          0.3729466940075986,
          0.3582497928069218,
          0.33024913685160606,
          0.32039734985285045,
          0.4293345151745492,
          0.3579904872024997,
          0.1825703711878797,
          0.39702040758352236,
          0.0330312929279482,
          0.012102600900001606,
          0.40042779416569163,
          0.33090446450753336,
          -0.09731733115168767,
          0.2703802114084887,
          0.18160295581001848,
          0.03303079750344809,
          0.18256027494746083,
          0.42373104038656517,
          0.37293524795044186,
          0.18263905121289994,
          0.3566372328045652,
          0.36376449789994086,
          0.3637688547466157,
          0.16011875651502955,
          0.3619369634023517,
          0.012077948233381916,
          0.4262034814789526,
          0.426235670137394,
          0.17743805483842376,
          0.1826209166923421,
          -0.051804693583721306,
          0.18259610348613625,
          0.00014541691227682235,
          0.23739949038206362,
          0.3629171479629565,
          0.011690670918751957,
          0.18263461690170832,
          -0.005106409513303509,
          0.19233136545035376,
          0.012103315240806345,
          0.012057464254354344,
          0.31095218439023775,
          0.38598421300431907,
          0.32163112066413796,
          0.35778375917908184,
          0.42624358851384303
         ]
        },
        {
         "customdata": [
          [
           "Proof-of-Authority"
          ],
          [
           "ECC 256K1"
          ],
          [
           "Leased POS"
          ]
         ],
         "hovertemplate": "<b>%{hovertext}</b><br><br>Class=%{marker.color}<br>PC 1=%{x}<br>PC 2=%{y}<br>PC 3=%{z}<br>Algorithm=%{customdata[0]}<extra></extra>",
         "hovertext": [
          "Poa Network",
          "Acute Angle Cloud",
          "Waves"
         ],
         "legendgroup": "1",
         "marker": {
          "color": [
           1,
           1,
           1
          ],
          "coloraxis": "coloraxis",
          "symbol": "square"
         },
         "mode": "markers",
         "name": "1",
         "scene": "scene",
         "showlegend": true,
         "type": "scatter3d",
         "x": [
          -0.41952732159860273,
          -0.3432911431715232,
          -0.36091648897436024
         ],
         "y": [
          2.980953717316712,
          3.3457666389038443,
          3.021424517749504
         ],
         "z": [
          21.351235350989334,
          16.59660491273842,
          12.011936336401972
         ]
        },
        {
         "customdata": [
          [
           "TRC10"
          ]
         ],
         "hovertemplate": "<b>%{hovertext}</b><br><br>Class=%{marker.color}<br>PC 1=%{x}<br>PC 2=%{y}<br>PC 3=%{z}<br>Algorithm=%{customdata[0]}<extra></extra>",
         "hovertext": [
          "BitTorrent"
         ],
         "legendgroup": "2",
         "marker": {
          "color": [
           2
          ],
          "coloraxis": "coloraxis",
          "symbol": "x"
         },
         "mode": "markers",
         "name": "2",
         "scene": "scene",
         "showlegend": true,
         "type": "scatter3d",
         "x": [
          34.11676085023294
         ],
         "y": [
          1.602544807933999
         ],
         "z": [
          -0.998564177474555
         ]
        }
       ],
       "layout": {
        "coloraxis": {
         "colorbar": {
          "title": {
           "text": "Class"
          }
         },
         "colorscale": [
          [
           0,
           "#0d0887"
          ],
          [
           0.1111111111111111,
           "#46039f"
          ],
          [
           0.2222222222222222,
           "#7201a8"
          ],
          [
           0.3333333333333333,
           "#9c179e"
          ],
          [
           0.4444444444444444,
           "#bd3786"
          ],
          [
           0.5555555555555556,
           "#d8576b"
          ],
          [
           0.6666666666666666,
           "#ed7953"
          ],
          [
           0.7777777777777778,
           "#fb9f3a"
          ],
          [
           0.8888888888888888,
           "#fdca26"
          ],
          [
           1,
           "#f0f921"
          ]
         ]
        },
        "height": 1000,
        "legend": {
         "title": {
          "text": "Class"
         },
         "tracegroupgap": 0,
         "x": 0,
         "y": 1
        },
        "margin": {
         "t": 60
        },
        "scene": {
         "domain": {
          "x": [
           0,
           1
          ],
          "y": [
           0,
           1
          ]
         },
         "xaxis": {
          "title": {
           "text": "PC 1"
          }
         },
         "yaxis": {
          "title": {
           "text": "PC 2"
          }
         },
         "zaxis": {
          "title": {
           "text": "PC 3"
          }
         }
        },
        "template": {
         "data": {
          "bar": [
           {
            "error_x": {
             "color": "#2a3f5f"
            },
            "error_y": {
             "color": "#2a3f5f"
            },
            "marker": {
             "line": {
              "color": "#E5ECF6",
              "width": 0.5
             },
             "pattern": {
              "fillmode": "overlay",
              "size": 10,
              "solidity": 0.2
             }
            },
            "type": "bar"
           }
          ],
          "barpolar": [
           {
            "marker": {
             "line": {
              "color": "#E5ECF6",
              "width": 0.5
             },
             "pattern": {
              "fillmode": "overlay",
              "size": 10,
              "solidity": 0.2
             }
            },
            "type": "barpolar"
           }
          ],
          "carpet": [
           {
            "aaxis": {
             "endlinecolor": "#2a3f5f",
             "gridcolor": "white",
             "linecolor": "white",
             "minorgridcolor": "white",
             "startlinecolor": "#2a3f5f"
            },
            "baxis": {
             "endlinecolor": "#2a3f5f",
             "gridcolor": "white",
             "linecolor": "white",
             "minorgridcolor": "white",
             "startlinecolor": "#2a3f5f"
            },
            "type": "carpet"
           }
          ],
          "choropleth": [
           {
            "colorbar": {
             "outlinewidth": 0,
             "ticks": ""
            },
            "type": "choropleth"
           }
          ],
          "contour": [
           {
            "colorbar": {
             "outlinewidth": 0,
             "ticks": ""
            },
            "colorscale": [
             [
              0,
              "#0d0887"
             ],
             [
              0.1111111111111111,
              "#46039f"
             ],
             [
              0.2222222222222222,
              "#7201a8"
             ],
             [
              0.3333333333333333,
              "#9c179e"
             ],
             [
              0.4444444444444444,
              "#bd3786"
             ],
             [
              0.5555555555555556,
              "#d8576b"
             ],
             [
              0.6666666666666666,
              "#ed7953"
             ],
             [
              0.7777777777777778,
              "#fb9f3a"
             ],
             [
              0.8888888888888888,
              "#fdca26"
             ],
             [
              1,
              "#f0f921"
             ]
            ],
            "type": "contour"
           }
          ],
          "contourcarpet": [
           {
            "colorbar": {
             "outlinewidth": 0,
             "ticks": ""
            },
            "type": "contourcarpet"
           }
          ],
          "heatmap": [
           {
            "colorbar": {
             "outlinewidth": 0,
             "ticks": ""
            },
            "colorscale": [
             [
              0,
              "#0d0887"
             ],
             [
              0.1111111111111111,
              "#46039f"
             ],
             [
              0.2222222222222222,
              "#7201a8"
             ],
             [
              0.3333333333333333,
              "#9c179e"
             ],
             [
              0.4444444444444444,
              "#bd3786"
             ],
             [
              0.5555555555555556,
              "#d8576b"
             ],
             [
              0.6666666666666666,
              "#ed7953"
             ],
             [
              0.7777777777777778,
              "#fb9f3a"
             ],
             [
              0.8888888888888888,
              "#fdca26"
             ],
             [
              1,
              "#f0f921"
             ]
            ],
            "type": "heatmap"
           }
          ],
          "heatmapgl": [
           {
            "colorbar": {
             "outlinewidth": 0,
             "ticks": ""
            },
            "colorscale": [
             [
              0,
              "#0d0887"
             ],
             [
              0.1111111111111111,
              "#46039f"
             ],
             [
              0.2222222222222222,
              "#7201a8"
             ],
             [
              0.3333333333333333,
              "#9c179e"
             ],
             [
              0.4444444444444444,
              "#bd3786"
             ],
             [
              0.5555555555555556,
              "#d8576b"
             ],
             [
              0.6666666666666666,
              "#ed7953"
             ],
             [
              0.7777777777777778,
              "#fb9f3a"
             ],
             [
              0.8888888888888888,
              "#fdca26"
             ],
             [
              1,
              "#f0f921"
             ]
            ],
            "type": "heatmapgl"
           }
          ],
          "histogram": [
           {
            "marker": {
             "pattern": {
              "fillmode": "overlay",
              "size": 10,
              "solidity": 0.2
             }
            },
            "type": "histogram"
           }
          ],
          "histogram2d": [
           {
            "colorbar": {
             "outlinewidth": 0,
             "ticks": ""
            },
            "colorscale": [
             [
              0,
              "#0d0887"
             ],
             [
              0.1111111111111111,
              "#46039f"
             ],
             [
              0.2222222222222222,
              "#7201a8"
             ],
             [
              0.3333333333333333,
              "#9c179e"
             ],
             [
              0.4444444444444444,
              "#bd3786"
             ],
             [
              0.5555555555555556,
              "#d8576b"
             ],
             [
              0.6666666666666666,
              "#ed7953"
             ],
             [
              0.7777777777777778,
              "#fb9f3a"
             ],
             [
              0.8888888888888888,
              "#fdca26"
             ],
             [
              1,
              "#f0f921"
             ]
            ],
            "type": "histogram2d"
           }
          ],
          "histogram2dcontour": [
           {
            "colorbar": {
             "outlinewidth": 0,
             "ticks": ""
            },
            "colorscale": [
             [
              0,
              "#0d0887"
             ],
             [
              0.1111111111111111,
              "#46039f"
             ],
             [
              0.2222222222222222,
              "#7201a8"
             ],
             [
              0.3333333333333333,
              "#9c179e"
             ],
             [
              0.4444444444444444,
              "#bd3786"
             ],
             [
              0.5555555555555556,
              "#d8576b"
             ],
             [
              0.6666666666666666,
              "#ed7953"
             ],
             [
              0.7777777777777778,
              "#fb9f3a"
             ],
             [
              0.8888888888888888,
              "#fdca26"
             ],
             [
              1,
              "#f0f921"
             ]
            ],
            "type": "histogram2dcontour"
           }
          ],
          "mesh3d": [
           {
            "colorbar": {
             "outlinewidth": 0,
             "ticks": ""
            },
            "type": "mesh3d"
           }
          ],
          "parcoords": [
           {
            "line": {
             "colorbar": {
              "outlinewidth": 0,
              "ticks": ""
             }
            },
            "type": "parcoords"
           }
          ],
          "pie": [
           {
            "automargin": true,
            "type": "pie"
           }
          ],
          "scatter": [
           {
            "marker": {
             "colorbar": {
              "outlinewidth": 0,
              "ticks": ""
             }
            },
            "type": "scatter"
           }
          ],
          "scatter3d": [
           {
            "line": {
             "colorbar": {
              "outlinewidth": 0,
              "ticks": ""
             }
            },
            "marker": {
             "colorbar": {
              "outlinewidth": 0,
              "ticks": ""
             }
            },
            "type": "scatter3d"
           }
          ],
          "scattercarpet": [
           {
            "marker": {
             "colorbar": {
              "outlinewidth": 0,
              "ticks": ""
             }
            },
            "type": "scattercarpet"
           }
          ],
          "scattergeo": [
           {
            "marker": {
             "colorbar": {
              "outlinewidth": 0,
              "ticks": ""
             }
            },
            "type": "scattergeo"
           }
          ],
          "scattergl": [
           {
            "marker": {
             "colorbar": {
              "outlinewidth": 0,
              "ticks": ""
             }
            },
            "type": "scattergl"
           }
          ],
          "scattermapbox": [
           {
            "marker": {
             "colorbar": {
              "outlinewidth": 0,
              "ticks": ""
             }
            },
            "type": "scattermapbox"
           }
          ],
          "scatterpolar": [
           {
            "marker": {
             "colorbar": {
              "outlinewidth": 0,
              "ticks": ""
             }
            },
            "type": "scatterpolar"
           }
          ],
          "scatterpolargl": [
           {
            "marker": {
             "colorbar": {
              "outlinewidth": 0,
              "ticks": ""
             }
            },
            "type": "scatterpolargl"
           }
          ],
          "scatterternary": [
           {
            "marker": {
             "colorbar": {
              "outlinewidth": 0,
              "ticks": ""
             }
            },
            "type": "scatterternary"
           }
          ],
          "surface": [
           {
            "colorbar": {
             "outlinewidth": 0,
             "ticks": ""
            },
            "colorscale": [
             [
              0,
              "#0d0887"
             ],
             [
              0.1111111111111111,
              "#46039f"
             ],
             [
              0.2222222222222222,
              "#7201a8"
             ],
             [
              0.3333333333333333,
              "#9c179e"
             ],
             [
              0.4444444444444444,
              "#bd3786"
             ],
             [
              0.5555555555555556,
              "#d8576b"
             ],
             [
              0.6666666666666666,
              "#ed7953"
             ],
             [
              0.7777777777777778,
              "#fb9f3a"
             ],
             [
              0.8888888888888888,
              "#fdca26"
             ],
             [
              1,
              "#f0f921"
             ]
            ],
            "type": "surface"
           }
          ],
          "table": [
           {
            "cells": {
             "fill": {
              "color": "#EBF0F8"
             },
             "line": {
              "color": "white"
             }
            },
            "header": {
             "fill": {
              "color": "#C8D4E3"
             },
             "line": {
              "color": "white"
             }
            },
            "type": "table"
           }
          ]
         },
         "layout": {
          "annotationdefaults": {
           "arrowcolor": "#2a3f5f",
           "arrowhead": 0,
           "arrowwidth": 1
          },
          "autotypenumbers": "strict",
          "coloraxis": {
           "colorbar": {
            "outlinewidth": 0,
            "ticks": ""
           }
          },
          "colorscale": {
           "diverging": [
            [
             0,
             "#8e0152"
            ],
            [
             0.1,
             "#c51b7d"
            ],
            [
             0.2,
             "#de77ae"
            ],
            [
             0.3,
             "#f1b6da"
            ],
            [
             0.4,
             "#fde0ef"
            ],
            [
             0.5,
             "#f7f7f7"
            ],
            [
             0.6,
             "#e6f5d0"
            ],
            [
             0.7,
             "#b8e186"
            ],
            [
             0.8,
             "#7fbc41"
            ],
            [
             0.9,
             "#4d9221"
            ],
            [
             1,
             "#276419"
            ]
           ],
           "sequential": [
            [
             0,
             "#0d0887"
            ],
            [
             0.1111111111111111,
             "#46039f"
            ],
            [
             0.2222222222222222,
             "#7201a8"
            ],
            [
             0.3333333333333333,
             "#9c179e"
            ],
            [
             0.4444444444444444,
             "#bd3786"
            ],
            [
             0.5555555555555556,
             "#d8576b"
            ],
            [
             0.6666666666666666,
             "#ed7953"
            ],
            [
             0.7777777777777778,
             "#fb9f3a"
            ],
            [
             0.8888888888888888,
             "#fdca26"
            ],
            [
             1,
             "#f0f921"
            ]
           ],
           "sequentialminus": [
            [
             0,
             "#0d0887"
            ],
            [
             0.1111111111111111,
             "#46039f"
            ],
            [
             0.2222222222222222,
             "#7201a8"
            ],
            [
             0.3333333333333333,
             "#9c179e"
            ],
            [
             0.4444444444444444,
             "#bd3786"
            ],
            [
             0.5555555555555556,
             "#d8576b"
            ],
            [
             0.6666666666666666,
             "#ed7953"
            ],
            [
             0.7777777777777778,
             "#fb9f3a"
            ],
            [
             0.8888888888888888,
             "#fdca26"
            ],
            [
             1,
             "#f0f921"
            ]
           ]
          },
          "colorway": [
           "#636efa",
           "#EF553B",
           "#00cc96",
           "#ab63fa",
           "#FFA15A",
           "#19d3f3",
           "#FF6692",
           "#B6E880",
           "#FF97FF",
           "#FECB52"
          ],
          "font": {
           "color": "#2a3f5f"
          },
          "geo": {
           "bgcolor": "white",
           "lakecolor": "white",
           "landcolor": "#E5ECF6",
           "showlakes": true,
           "showland": true,
           "subunitcolor": "white"
          },
          "hoverlabel": {
           "align": "left"
          },
          "hovermode": "closest",
          "mapbox": {
           "style": "light"
          },
          "paper_bgcolor": "white",
          "plot_bgcolor": "#E5ECF6",
          "polar": {
           "angularaxis": {
            "gridcolor": "white",
            "linecolor": "white",
            "ticks": ""
           },
           "bgcolor": "#E5ECF6",
           "radialaxis": {
            "gridcolor": "white",
            "linecolor": "white",
            "ticks": ""
           }
          },
          "scene": {
           "xaxis": {
            "backgroundcolor": "#E5ECF6",
            "gridcolor": "white",
            "gridwidth": 2,
            "linecolor": "white",
            "showbackground": true,
            "ticks": "",
            "zerolinecolor": "white"
           },
           "yaxis": {
            "backgroundcolor": "#E5ECF6",
            "gridcolor": "white",
            "gridwidth": 2,
            "linecolor": "white",
            "showbackground": true,
            "ticks": "",
            "zerolinecolor": "white"
           },
           "zaxis": {
            "backgroundcolor": "#E5ECF6",
            "gridcolor": "white",
            "gridwidth": 2,
            "linecolor": "white",
            "showbackground": true,
            "ticks": "",
            "zerolinecolor": "white"
           }
          },
          "shapedefaults": {
           "line": {
            "color": "#2a3f5f"
           }
          },
          "ternary": {
           "aaxis": {
            "gridcolor": "white",
            "linecolor": "white",
            "ticks": ""
           },
           "baxis": {
            "gridcolor": "white",
            "linecolor": "white",
            "ticks": ""
           },
           "bgcolor": "#E5ECF6",
           "caxis": {
            "gridcolor": "white",
            "linecolor": "white",
            "ticks": ""
           }
          },
          "title": {
           "x": 0.05
          },
          "xaxis": {
           "automargin": true,
           "gridcolor": "white",
           "linecolor": "white",
           "ticks": "",
           "title": {
            "standoff": 15
           },
           "zerolinecolor": "white",
           "zerolinewidth": 2
          },
          "yaxis": {
           "automargin": true,
           "gridcolor": "white",
           "linecolor": "white",
           "ticks": "",
           "title": {
            "standoff": 15
           },
           "zerolinecolor": "white",
           "zerolinewidth": 2
          }
         }
        },
        "width": 1200
       }
      }
     },
     "metadata": {},
     "output_type": "display_data"
    }
   ],
   "source": [
    "# Creating a 3D-Scatter with the PCA data and the clusters\n",
    "fig = px.scatter_3d(\n",
    "    clustered_df\n",
    "    , x=\"PC 1\"\n",
    "    , y=\"PC 2\"\n",
    "    , z=\"PC 3\"\n",
    "    , color='Class'\n",
    "    , symbol=\"Class\"\n",
    "    , width=1200\n",
    "    , height=1000\n",
    "    , hover_name=\"CoinName\"\n",
    "    , hover_data=[clustered_df.Algorithm]\n",
    ")\n",
    "\n",
    "fig.update_layout(legend=dict(x=0, y=1))\n",
    "fig.show()"
   ]
  },
  {
   "cell_type": "code",
   "execution_count": null,
   "metadata": {},
   "outputs": [],
   "source": [
    "# Create a table with tradable cryptocurrencies.\n",
    "# YOUR CODE HERE"
   ]
  },
  {
   "cell_type": "code",
   "execution_count": null,
   "metadata": {},
   "outputs": [],
   "source": [
    "# Print the total number of tradable cryptocurrencies.\n",
    "# YOUR CODE HERE"
   ]
  },
  {
   "cell_type": "code",
   "execution_count": null,
   "metadata": {},
   "outputs": [],
   "source": [
    "# Scaling data to create the scatter plot with tradable cryptocurrencies.\n",
    "# YOUR CODE HERE"
   ]
  },
  {
   "cell_type": "code",
   "execution_count": null,
   "metadata": {},
   "outputs": [],
   "source": [
    "# Create a new DataFrame that has the scaled data with the clustered_df DataFrame index.\n",
    "# YOUR CODE HERE\n",
    "\n",
    "# Add the \"CoinName\" column from the clustered_df DataFrame to the new DataFrame.\n",
    "# YOUR CODE HERE\n",
    "\n",
    "# Add the \"Class\" column from the clustered_df DataFrame to the new DataFrame. \n",
    "# YOUR CODE HERE\n",
    "\n",
    "plot_df.head(10)"
   ]
  },
  {
   "cell_type": "code",
   "execution_count": null,
   "metadata": {},
   "outputs": [],
   "source": [
    "# Create a hvplot.scatter plot using x=\"TotalCoinsMined\" and y=\"TotalCoinSupply\".\n",
    "# YOUR CODE HERE\n"
   ]
  },
  {
   "cell_type": "code",
   "execution_count": null,
   "metadata": {},
   "outputs": [],
   "source": []
  }
 ],
 "metadata": {
  "file_extension": ".py",
  "kernelspec": {
   "display_name": "Python 3.7.13 ('mlenv')",
   "language": "python",
   "name": "python3"
  },
  "language_info": {
   "codemirror_mode": {
    "name": "ipython",
    "version": 3
   },
   "file_extension": ".py",
   "mimetype": "text/x-python",
   "name": "python",
   "nbconvert_exporter": "python",
   "pygments_lexer": "ipython3",
   "version": "3.7.13"
  },
  "latex_envs": {
   "LaTeX_envs_menu_present": true,
   "autoclose": false,
   "autocomplete": true,
   "bibliofile": "biblio.bib",
   "cite_by": "apalike",
   "current_citInitial": 1,
   "eqLabelWithNumbers": true,
   "eqNumInitial": 1,
   "hotkeys": {
    "equation": "Ctrl-E",
    "itemize": "Ctrl-I"
   },
   "labels_anchors": false,
   "latex_user_defs": false,
   "report_style_numbering": false,
   "user_envs_cfg": false
  },
  "mimetype": "text/x-python",
  "name": "python",
  "npconvert_exporter": "python",
  "pygments_lexer": "ipython3",
  "version": 3,
  "vscode": {
   "interpreter": {
    "hash": "55a128abeef29120eb7bd22a6a2e883184ae9f9178564f0df9c7c7d3d676105f"
   }
  }
 },
 "nbformat": 4,
 "nbformat_minor": 2
}
